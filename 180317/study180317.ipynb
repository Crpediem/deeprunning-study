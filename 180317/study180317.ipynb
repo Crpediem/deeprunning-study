{
  "nbformat": 4,
  "nbformat_minor": 0,
  "metadata": {
    "colab": {
      "name": "study180317.ipynb",
      "version": "0.3.2",
      "views": {},
      "default_view": {},
      "provenance": []
    },
    "kernelspec": {
      "name": "python3",
      "display_name": "Python 3"
    },
    "accelerator": "GPU"
  },
  "cells": [
    {
      "metadata": {
        "id": "7NdWpOn8CQba",
        "colab_type": "text"
      },
      "cell_type": "markdown",
      "source": [
        "## 1. 헬로우 딥러닝 MNIST\n",
        "\n",
        "![대체 텍스트](https://i.imgur.com/Un7aQtW.png)\n",
        "\n",
        "출처 : 밑바닥부터 시작하는 딥러닝\n",
        "\n",
        "MNIST란? 0-9까지의 손글씨로 쓴 숫자 데이터\n",
        "\n",
        "미니배치 : 데이터를 적당한 크기로 잘라서 학습\n",
        "\n",
        "ex) 60,000장의 훈련 데이터중에서 100장을 무작위 뽑아서 100장만을 학습 (밑바닥부터 시작하는 딥러닝에서 나온 내용)\n",
        "\n",
        "에포크 : 학습 데이터 전체를 한 바퀴 도는 것"
      ]
    },
    {
      "metadata": {
        "id": "TwNKPhU_BlmP",
        "colab_type": "code",
        "colab": {
          "autoexec": {
            "startup": false,
            "wait_interval": 0
          },
          "output_extras": [
            {}
          ],
          "base_uri": "https://localhost:8080/",
          "height": 374
        },
        "outputId": "d3ce8326-10d2-407c-c240-40e57e0a2d2b",
        "executionInfo": {
          "status": "ok",
          "timestamp": 1520754541511,
          "user_tz": -540,
          "elapsed": 42625,
          "user": {
            "displayName": "sj jin",
            "photoUrl": "https://lh3.googleusercontent.com/a/default-user=s128",
            "userId": "107618035827318999649"
          }
        }
      },
      "cell_type": "code",
      "source": [
        "import tensorflow as tf\n",
        "\n",
        "from tensorflow.examples.tutorials.mnist import input_data\n",
        "# 텐서플로우에 기본 내장된 mnist 모듈을 이용하여 데이터를 로드합니다.\n",
        "# 지정한 폴더에 MNIST 데이터가 없는 경우 자동으로 데이터를 다운로드합니다.\n",
        "# one_hot 옵션은 레이블을 동물 분류 예제에서 보았던 one_hot 방식의 데이터로 만들어줍니다.\n",
        "mnist = input_data.read_data_sets(\"./mnist/data/\", one_hot=True)\n",
        "\n",
        "#########\n",
        "# 신경망 모델 구성\n",
        "######\n",
        "# 입력 값의 차원은 [배치크기, 특성값] 으로 되어 있습니다.\n",
        "# 손글씨 이미지는 28x28 픽셀로 이루어져 있고, 이를 784개의 특성값으로 정합니다.\n",
        "X = tf.placeholder(tf.float32, [None, 784])\n",
        "# 결과는 0~9 의 10 가지 분류를 가집니다.\n",
        "Y = tf.placeholder(tf.float32, [None, 10])\n",
        "\n",
        "# 신경망의 레이어는 다음처럼 구성합니다.\n",
        "# 784(입력 특성값)\n",
        "#   -> 256 (히든레이어 뉴런 갯수) -> 256 (히든레이어 뉴런 갯수)\n",
        "#   -> 10 (결과값 0~9 분류)\n",
        "W1 = tf.Variable(tf.random_normal([784, 256], stddev=0.01))\n",
        "# 입력값에 가중치를 곱하고 ReLU 함수를 이용하여 레이어를 만듭니다.\n",
        "L1 = tf.nn.relu(tf.matmul(X, W1))\n",
        "\n",
        "W2 = tf.Variable(tf.random_normal([256, 256], stddev=0.01))\n",
        "# L1 레이어의 출력값에 가중치를 곱하고 ReLU 함수를 이용하여 레이어를 만듭니다.\n",
        "L2 = tf.nn.relu(tf.matmul(L1, W2))\n",
        "\n",
        "W3 = tf.Variable(tf.random_normal([256, 10], stddev=0.01))\n",
        "# 최종 모델의 출력값은 W3 변수를 곱해 10개의 분류를 가지게 됩니다.\n",
        "model = tf.matmul(L2, W3)\n",
        "\n",
        "cost = tf.reduce_mean(tf.nn.softmax_cross_entropy_with_logits_v2(logits=model, labels=Y))\n",
        "optimizer = tf.train.AdamOptimizer(0.001).minimize(cost)\n",
        "\n",
        "#########\n",
        "# 신경망 모델 학습\n",
        "######\n",
        "init = tf.global_variables_initializer()\n",
        "sess = tf.Session()\n",
        "sess.run(init)\n",
        "\n",
        "batch_size = 100\n",
        "total_batch = int(mnist.train.num_examples / batch_size)\n",
        "\n",
        "for epoch in range(15):\n",
        "    total_cost = 0\n",
        "\n",
        "    for i in range(total_batch):\n",
        "        # 텐서플로우의 mnist 모델의 next_batch 함수를 이용해\n",
        "        # 지정한 크기만큼 학습할 데이터를 가져옵니다.\n",
        "        batch_xs, batch_ys = mnist.train.next_batch(batch_size)\n",
        "\n",
        "        _, cost_val = sess.run([optimizer, cost], feed_dict={X: batch_xs, Y: batch_ys})\n",
        "        total_cost += cost_val\n",
        "\n",
        "    print('Epoch:', '%04d' % (epoch + 1),\n",
        "          'Avg. cost =', '{:.3f}'.format(total_cost / total_batch))\n",
        "\n",
        "print('최적화 완료!')\n",
        "\n",
        "#########\n",
        "# 결과 확인\n",
        "######\n",
        "# model 로 예측한 값과 실제 레이블인 Y의 값을 비교합니다.\n",
        "# tf.argmax 함수를 이용해 예측한 값에서 가장 큰 값을 예측한 레이블이라고 평가합니다.\n",
        "# 예) [0.1 0 0 0.7 0 0.2 0 0 0 0] -> 3\n",
        "is_correct = tf.equal(tf.argmax(model, 1), tf.argmax(Y, 1))\n",
        "accuracy = tf.reduce_mean(tf.cast(is_correct, tf.float32))\n",
        "print('정확도:', sess.run(accuracy,\n",
        "                        feed_dict={X: mnist.test.images,\n",
        "                                   Y: mnist.test.labels}))"
      ],
      "execution_count": 0,
      "outputs": [
        {
          "output_type": "stream",
          "text": [
            "Extracting ./mnist/data/train-images-idx3-ubyte.gz\n",
            "Extracting ./mnist/data/train-labels-idx1-ubyte.gz\n",
            "Extracting ./mnist/data/t10k-images-idx3-ubyte.gz\n",
            "Extracting ./mnist/data/t10k-labels-idx1-ubyte.gz\n",
            "Epoch: 0001 Avg. cost = 0.415\n",
            "Epoch: 0002 Avg. cost = 0.151\n",
            "Epoch: 0003 Avg. cost = 0.099\n",
            "Epoch: 0004 Avg. cost = 0.070\n",
            "Epoch: 0005 Avg. cost = 0.053\n",
            "Epoch: 0006 Avg. cost = 0.042\n",
            "Epoch: 0007 Avg. cost = 0.033\n",
            "Epoch: 0008 Avg. cost = 0.026\n",
            "Epoch: 0009 Avg. cost = 0.019\n",
            "Epoch: 0010 Avg. cost = 0.019\n",
            "Epoch: 0011 Avg. cost = 0.015\n",
            "Epoch: 0012 Avg. cost = 0.013\n",
            "Epoch: 0013 Avg. cost = 0.013\n",
            "Epoch: 0014 Avg. cost = 0.013\n",
            "Epoch: 0015 Avg. cost = 0.011\n",
            "최적화 완료!\n",
            "정확도: 0.9801\n"
          ],
          "name": "stdout"
        }
      ]
    },
    {
      "metadata": {
        "id": "sKcwFGEJFHzI",
        "colab_type": "text"
      },
      "cell_type": "markdown",
      "source": [
        "![대체 텍스트](https://i.imgur.com/tGpF9Mz.png)\n",
        "\n",
        "출처 : 밑바닥부터 시작하는 딥러닝\n",
        "\n",
        "드롭아웃 : 학습 시 전체 신경망 중 일부만을 사용하도록 하는 것"
      ]
    },
    {
      "metadata": {
        "id": "2_6zB320FvZn",
        "colab_type": "code",
        "colab": {
          "autoexec": {
            "startup": false,
            "wait_interval": 0
          },
          "output_extras": [
            {},
            {}
          ],
          "base_uri": "https://localhost:8080/",
          "height": 898
        },
        "outputId": "269c15b1-6388-4075-83ae-47134ba35806",
        "executionInfo": {
          "status": "ok",
          "timestamp": 1520755603043,
          "user_tz": -540,
          "elapsed": 98005,
          "user": {
            "displayName": "sj jin",
            "photoUrl": "https://lh3.googleusercontent.com/a/default-user=s128",
            "userId": "107618035827318999649"
          }
        }
      },
      "cell_type": "code",
      "source": [
        "import tensorflow as tf\n",
        "import numpy as np\n",
        "import matplotlib.pyplot as plt\n",
        "\n",
        "from tensorflow.examples.tutorials.mnist import input_data\n",
        "mnist = input_data.read_data_sets(\"./mnist/data/\", one_hot=True)\n",
        "\n",
        "#########\n",
        "# 신경망 모델 구성\n",
        "######\n",
        "X = tf.placeholder(tf.float32, [None, 784])\n",
        "Y = tf.placeholder(tf.float32, [None, 10])\n",
        "keep_prob = tf.placeholder(tf.float32)\n",
        "\n",
        "W1 = tf.Variable(tf.random_normal([784, 256], stddev=0.01))\n",
        "L1 = tf.nn.relu(tf.matmul(X, W1))\n",
        "# 텐서플로우에 내장된 함수를 이용하여 dropout 을 적용합니다.\n",
        "# 함수에 적용할 레이어와 확률만 넣어주면 됩니다. 겁나 매직!!\n",
        "L1 = tf.nn.dropout(L1, keep_prob)\n",
        "\n",
        "W2 = tf.Variable(tf.random_normal([256, 256], stddev=0.01))\n",
        "L2 = tf.nn.relu(tf.matmul(L1, W2))\n",
        "L2 = tf.nn.dropout(L2, keep_prob)\n",
        "\n",
        "W3 = tf.Variable(tf.random_normal([256, 10], stddev=0.01))\n",
        "model = tf.matmul(L2, W3)\n",
        "\n",
        "cost = tf.reduce_mean(tf.nn.softmax_cross_entropy_with_logits_v2(logits=model, labels=Y))\n",
        "optimizer = tf.train.AdamOptimizer(0.001).minimize(cost)\n",
        "\n",
        "#########\n",
        "# 신경망 모델 학습\n",
        "######\n",
        "init = tf.global_variables_initializer()\n",
        "sess = tf.Session()\n",
        "sess.run(init)\n",
        "\n",
        "batch_size = 100\n",
        "total_batch = int(mnist.train.num_examples / batch_size)\n",
        "\n",
        "for epoch in range(30):\n",
        "    total_cost = 0\n",
        "\n",
        "    for i in range(total_batch):\n",
        "        batch_xs, batch_ys = mnist.train.next_batch(batch_size)\n",
        "\n",
        "        _, cost_val = sess.run([optimizer, cost],\n",
        "                               feed_dict={X: batch_xs,\n",
        "                                          Y: batch_ys,\n",
        "                                          keep_prob: 0.8})\n",
        "        total_cost += cost_val\n",
        "\n",
        "    print('Epoch:', '%04d' % (epoch + 1),\n",
        "          'Avg. cost =', '{:.3f}'.format(total_cost / total_batch))\n",
        "\n",
        "print('최적화 완료!')\n",
        "\n",
        "#########\n",
        "# 결과 확인\n",
        "######\n",
        "is_correct = tf.equal(tf.argmax(model, 1), tf.argmax(Y, 1))\n",
        "accuracy = tf.reduce_mean(tf.cast(is_correct, tf.float32))\n",
        "print('정확도:', sess.run(accuracy,\n",
        "                        feed_dict={X: mnist.test.images,\n",
        "                                   Y: mnist.test.labels,\n",
        "                                   keep_prob: 1}))\n",
        "\n",
        "#########\n",
        "# 결과 확인 (matplot)\n",
        "######\n",
        "labels = sess.run(model,\n",
        "                  feed_dict={X: mnist.test.images,\n",
        "                             Y: mnist.test.labels,\n",
        "                             keep_prob: 1})\n",
        "\n",
        "fig = plt.figure()\n",
        "for i in range(10):\n",
        "    subplot = fig.add_subplot(2, 5, i + 1)\n",
        "    subplot.set_xticks([])\n",
        "    subplot.set_yticks([])\n",
        "    subplot.set_title('%d' % np.argmax(labels[i]))\n",
        "    subplot.imshow(mnist.test.images[i].reshape((28, 28)),\n",
        "                   cmap=plt.cm.gray_r)\n",
        "\n",
        "plt.show()"
      ],
      "execution_count": 0,
      "outputs": [
        {
          "output_type": "stream",
          "text": [
            "Extracting ./mnist/data/train-images-idx3-ubyte.gz\n",
            "Extracting ./mnist/data/train-labels-idx1-ubyte.gz\n",
            "Extracting ./mnist/data/t10k-images-idx3-ubyte.gz\n",
            "Extracting ./mnist/data/t10k-labels-idx1-ubyte.gz\n",
            "Epoch: 0001 Avg. cost = 0.418\n",
            "Epoch: 0002 Avg. cost = 0.164\n",
            "Epoch: 0003 Avg. cost = 0.114\n",
            "Epoch: 0004 Avg. cost = 0.090\n",
            "Epoch: 0005 Avg. cost = 0.072\n",
            "Epoch: 0006 Avg. cost = 0.061\n",
            "Epoch: 0007 Avg. cost = 0.053\n",
            "Epoch: 0008 Avg. cost = 0.046\n",
            "Epoch: 0009 Avg. cost = 0.040\n",
            "Epoch: 0010 Avg. cost = 0.038\n",
            "Epoch: 0011 Avg. cost = 0.034\n",
            "Epoch: 0012 Avg. cost = 0.033\n",
            "Epoch: 0013 Avg. cost = 0.030\n",
            "Epoch: 0014 Avg. cost = 0.029\n",
            "Epoch: 0015 Avg. cost = 0.026\n",
            "Epoch: 0016 Avg. cost = 0.026\n",
            "Epoch: 0017 Avg. cost = 0.023\n",
            "Epoch: 0018 Avg. cost = 0.020\n",
            "Epoch: 0019 Avg. cost = 0.022\n",
            "Epoch: 0020 Avg. cost = 0.022\n",
            "Epoch: 0021 Avg. cost = 0.022\n",
            "Epoch: 0022 Avg. cost = 0.018\n",
            "Epoch: 0023 Avg. cost = 0.018\n",
            "Epoch: 0024 Avg. cost = 0.021\n",
            "Epoch: 0025 Avg. cost = 0.020\n",
            "Epoch: 0026 Avg. cost = 0.016\n",
            "Epoch: 0027 Avg. cost = 0.016\n",
            "Epoch: 0028 Avg. cost = 0.016\n",
            "Epoch: 0029 Avg. cost = 0.018\n",
            "Epoch: 0030 Avg. cost = 0.015\n",
            "최적화 완료!\n",
            "정확도: 0.9833\n"
          ],
          "name": "stdout"
        },
        {
          "output_type": "display_data",
          "data": {
            "image/png": "[encoded data removed]",
            "text/plain": [
              "<matplotlib.figure.Figure at 0x7f1d7c6f89b0>"
            ]
          },
          "metadata": {
            "tags": []
          }
        }
      ]
    },
    {
      "metadata": {
        "id": "rrPSE9e7lMU6",
        "colab_type": "text"
      },
      "cell_type": "markdown",
      "source": [
        "# 2. 붓꽃 데이터\n",
        "\n",
        "https://www.kaggle.com/uciml/iris/data\n",
        "\n",
        "캐글 데이터 참조 \n",
        "\n",
        "원본데이터 Iris.csv 참조\n",
        "\n",
        "https://thebook.io/006723/ch04/01/\n",
        "Iris 각 특성값들 참조"
      ]
    },
    {
      "metadata": {
        "id": "uTGTyJLClNvX",
        "colab_type": "code",
        "colab": {
          "autoexec": {
            "startup": false,
            "wait_interval": 0
          },
          "output_extras": [
            {}
          ],
          "base_uri": "https://localhost:8080/",
          "height": 251
        },
        "outputId": "b5604e9c-7bc3-42ec-a2fb-11ddc52eda55",
        "executionInfo": {
          "status": "ok",
          "timestamp": 1520847764215,
          "user_tz": -540,
          "elapsed": 3417,
          "user": {
            "displayName": "sj jin",
            "photoUrl": "https://lh3.googleusercontent.com/a/default-user=s128",
            "userId": "107618035827318999649"
          }
        }
      },
      "cell_type": "code",
      "source": [
        "import tensorflow as tf\n",
        "import numpy as np\n",
        "tf.set_random_seed(777)\n",
        "\n",
        "# 가공한 붓꽃 트레이닝 데이터 입력\n",
        "xy = np.loadtxt('https://raw.githubusercontent.com/Crpediem/deeprunning-study/master/180317/Iris_train.csv',delimiter=',',\n",
        "                dtype=np.float32)\n",
        "x_data = xy[:,0:4]\n",
        "y_data = xy[:,4:7]\n",
        "\n",
        "# 가공한 붓꽃 테스트 데이터 입력\n",
        "test_xy = np.loadtxt('https://raw.githubusercontent.com/Crpediem/deeprunning-study/master/180317/Iris_test.csv',delimiter=',',\n",
        "                dtype=np.float32)\n",
        "\n",
        "x_test = test_xy[:,0:4]\n",
        "y_test = test_xy[:,4:7]\n",
        "\n",
        "#########\n",
        "# 신경망 모델 구성\n",
        "######\n",
        "X = tf.placeholder(tf.float32, [None, 4])\n",
        "Y = tf.placeholder(tf.float32, [None, 3])\n",
        "keep_prob = tf.placeholder(tf.float32)\n",
        "\n",
        "W1 = tf.Variable(tf.random_normal([4, 10], stddev=0.01))\n",
        "L1 = tf.nn.relu(tf.matmul(X, W1))\n",
        "L1 = tf.nn.dropout(L1, keep_prob)\n",
        "\n",
        "W2 = tf.Variable(tf.random_normal([10, 10], stddev=0.01))\n",
        "L2 = tf.nn.relu(tf.matmul(L1, W2))\n",
        "L2 = tf.nn.dropout(L2, keep_prob)\n",
        "\n",
        "W3 = tf.Variable(tf.random_normal([10, 3], stddev=0.01))\n",
        "model = tf.matmul(L2, W3)\n",
        "\n",
        "cost = tf.reduce_mean(tf.nn.softmax_cross_entropy_with_logits_v2(logits=model, labels=Y))\n",
        "optimizer = tf.train.AdamOptimizer(learning_rate=0.01).minimize(cost)\n",
        "\n",
        "#########\n",
        "# 신경망 모델 학습\n",
        "######\n",
        "init = tf.global_variables_initializer()\n",
        "sess = tf.Session()\n",
        "sess.run(init)\n",
        "\n",
        "for step in range(1000):\n",
        "    sess.run(optimizer, feed_dict={X: x_data, Y: y_data, keep_prob: 0.8})\n",
        "\n",
        "    if (step + 1) % 100 == 0:\n",
        "        print(step + 1, sess.run(cost, feed_dict={X: x_data, Y: y_data, keep_prob: 0.8}))\n",
        "\n",
        "#########\n",
        "# 결과 확인\n",
        "# 0: Iris-setosa 1: Iris-versicolor, 2: Iris-virginica\n",
        "######\n",
        "prediction = tf.argmax(model, 1)\n",
        "target = tf.argmax(Y, 1)\n",
        "print('예측값:', sess.run(prediction, feed_dict={X: x_test, keep_prob: 1}))\n",
        "print('실제값:', sess.run(target, feed_dict={Y: y_test, keep_prob: 1}))\n",
        "\n",
        "is_correct = tf.equal(prediction, target)\n",
        "accuracy = tf.reduce_mean(tf.cast(is_correct, tf.float32))\n",
        "print('정확도: %.2f' % sess.run(accuracy * 100, feed_dict={X: x_test, Y: y_test, keep_prob: 1}))"
      ],
      "execution_count": 0,
      "outputs": [
        {
          "output_type": "stream",
          "text": [
            "100 0.23863082\n",
            "200 0.23964703\n",
            "300 0.18831006\n",
            "400 0.23864982\n",
            "500 0.19743586\n",
            "600 0.19411115\n",
            "700 0.18276615\n",
            "800 0.19053736\n",
            "900 0.20052955\n",
            "1000 0.2167687\n",
            "예측값: [0 0 0 0 0 0 0 0 0 0 1 1 1 1 1 1 1 1 1 1 2 2 2 2 2 2 2 2 2 2 2]\n",
            "실제값: [0 0 0 0 0 0 0 0 0 0 1 1 1 1 1 1 1 1 1 1 2 2 2 2 2 2 2 2 2 2 2]\n",
            "정확도: 100.00\n"
          ],
          "name": "stdout"
        }
      ]
    },
    {
      "metadata": {
        "id": "JbV9NeOJl8_N",
        "colab_type": "text"
      },
      "cell_type": "markdown",
      "source": [
        "## csv 파일 데이터 분류\n",
        "\n",
        "#### 1단계. 데이터 다듬기 \n",
        "\n",
        "캐글의 원본 csv에서 train과 test에서 사용되지 않을 id값과 label값을 삭제하고\n",
        "분류되는 값인 Iris-setosa, Iris-versicolor, Iris-virginica을 one-hot 형식으로 변환시켜줍니다.\n",
        "예) Iris-setosa = 100, Iris-versicolor = 010, Iris-virginica = 001\n",
        "\n",
        "#### 2단계. train과 test 데이터 나누기\n",
        "\n",
        "분류한 값을 저장 후 test와 train할 값을 나누어 각각 다른 csv로 저장합니다.\n",
        "\n",
        "#### 3단계. python list split\n",
        "\n",
        "생성한 csv에서 학습할 값과 분류되는 값을 분류하여 x_data,y_data에 저장합니다.\n",
        "test할 데이터도 동일하게 진행합니다."
      ]
    },
    {
      "metadata": {
        "id": "oZ-3RG9eM6mV",
        "colab_type": "text"
      },
      "cell_type": "markdown",
      "source": [
        "# 3. Wine data\n",
        "\n",
        "https://archive.ics.uci.edu/ml/machine-learning-databases/wine/wine.data\n",
        "\n",
        "위 주소에서 제공하는 데이터를 가지고 위의 소개한 방법으로 csv파일 분류을 동일하게 진행하여 학습해보도록 하겠습니다.\n"
      ]
    },
    {
      "metadata": {
        "id": "AykS3QhdqsZJ",
        "colab_type": "code",
        "colab": {
          "autoexec": {
            "startup": false,
            "wait_interval": 0
          },
          "output_extras": [
            {
              "item_id": 7
            }
          ],
          "base_uri": "https://localhost:8080/",
          "height": 251
        },
        "outputId": "9ed3444a-2aa8-4be3-b9b3-ef83e4b99d6f",
        "executionInfo": {
          "status": "ok",
          "timestamp": 1520990309495,
          "user_tz": -540,
          "elapsed": 3186,
          "user": {
            "displayName": "sj jin",
            "photoUrl": "https://lh3.googleusercontent.com/a/default-user=s128",
            "userId": "107618035827318999649"
          }
        }
      },
      "cell_type": "code",
      "source": [
        "import tensorflow as tf\n",
        "import numpy as np\n",
        "\n",
        "# 가공한 트레이닝 데이터 입력\n",
        "xy = np.loadtxt('https://raw.githubusercontent.com/Crpediem/deeprunning-study/master/180317/wine_train.csv',delimiter=',',\n",
        "                dtype=np.float32)\n",
        "x_data = xy[:,0:13]\n",
        "y_data = xy[:,13:16]\n",
        "\n",
        "# 가공한 테스트 데이터 입력\n",
        "test_xy = np.loadtxt('https://raw.githubusercontent.com/Crpediem/deeprunning-study/master/180317/wine_test.csv',delimiter=',',\n",
        "                dtype=np.float32)\n",
        "\n",
        "x_test = test_xy[:,0:13]\n",
        "y_test = test_xy[:,13:16]\n",
        "\n",
        "# print(x_data)\n",
        "# print(y_data)\n",
        "\n",
        "#########\n",
        "# 신경망 모델 구성\n",
        "#####\n",
        "X = tf.placeholder(tf.float32, [None, 13])\n",
        "Y = tf.placeholder(tf.float32, [None, 3])\n",
        "keep_prob = tf.placeholder(tf.float32)\n",
        "\n",
        "W1 = tf.Variable(tf.random_normal([13, 100], stddev=0.01))\n",
        "L1 = tf.nn.relu(tf.matmul(X, W1))\n",
        "L1 = tf.nn.dropout(L1, keep_prob)\n",
        "\n",
        "W2 = tf.Variable(tf.random_normal([100, 100], stddev=0.01))\n",
        "L2 = tf.nn.relu(tf.matmul(L1, W2))\n",
        "L2 = tf.nn.dropout(L2, keep_prob)\n",
        "\n",
        "W3 = tf.Variable(tf.random_normal([100, 3], stddev=0.01))\n",
        "model = tf.matmul(L2, W3)\n",
        "\n",
        "cost = tf.reduce_mean(tf.nn.softmax_cross_entropy_with_logits_v2(logits=model, labels=Y))\n",
        "optimizer = tf.train.AdamOptimizer(learning_rate=0.001).minimize(cost)\n",
        "\n",
        "#########\n",
        "# 신경망 모델 학습\n",
        "######\n",
        "init = tf.global_variables_initializer()\n",
        "sess = tf.Session()\n",
        "sess.run(init)\n",
        "\n",
        "for step in range(1000):\n",
        "    sess.run(optimizer, feed_dict={X: x_data, Y: y_data, keep_prob: 0.8})\n",
        "\n",
        "    if (step + 1) % 100 == 0:\n",
        "        print(step + 1, sess.run(cost, feed_dict={X: x_data, Y: y_data, keep_prob: 0.8}))\n",
        "\n",
        "#########\n",
        "# 결과 확인\n",
        "######\n",
        "prediction = tf.argmax(model, 1)\n",
        "target = tf.argmax(Y, 1)\n",
        "print('예측값:', sess.run(prediction, feed_dict={X: x_test, keep_prob: 1}))\n",
        "print('실제값:', sess.run(target, feed_dict={Y: y_test, keep_prob: 1}))\n",
        "\n",
        "is_correct = tf.equal(prediction, target)\n",
        "accuracy = tf.reduce_mean(tf.cast(is_correct, tf.float32))\n",
        "print('정확도: %.2f' % sess.run(accuracy * 100, feed_dict={X: x_test, Y: y_test, keep_prob: 1}))"
      ],
      "execution_count": 16,
      "outputs": [
        {
          "output_type": "stream",
          "text": [
            "100 0.5879292\n",
            "200 0.1710964\n",
            "300 0.11573343\n",
            "400 0.08524342\n",
            "500 0.07245682\n",
            "600 0.066718794\n",
            "700 0.082000956\n",
            "800 0.09255613\n",
            "900 0.0823765\n",
            "1000 0.080762655\n",
            "예측값: [0 0 0 0 0 1 1 1 1 1 2 2 2 2 2]\n",
            "실제값: [0 0 0 0 0 1 1 1 1 1 2 2 2 2 2]\n",
            "정확도: 100.00\n"
          ],
          "name": "stdout"
        }
      ]
    },
    {
      "metadata": {
        "id": "4zc039MQG2FF",
        "colab_type": "text"
      },
      "cell_type": "markdown",
      "source": [
        "# 4. dropout 효과\n",
        "\n",
        "![대체 텍스트](https://leonardoaraujosantos.gitbooks.io/artificial-inteligence/content/image_folder_5/With_Without_Dropout.png)\n",
        "\n",
        "출처 :  https://leonardoaraujosantos.gitbooks.io/artificial-inteligence/content/dropout_layer.html\n",
        "\n",
        "드롭아웃 정리 전, 후 에러율입니다.\n",
        "\n",
        "차이가 꽤나 나는 것을 보실 수 있습니다.\n",
        "\n",
        "\n",
        "\n"
      ]
    }
  ]
}