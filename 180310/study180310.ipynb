{
  "nbformat": 4,
  "nbformat_minor": 0,
  "metadata": {
    "colab": {
      "name": "study180310.ipynb",
      "version": "0.3.2",
      "views": {},
      "default_view": {},
      "provenance": [],
      "collapsed_sections": []
    },
    "kernelspec": {
      "name": "python3",
      "display_name": "Python 3"
    },
    "accelerator": "GPU"
  },
  "cells": [
    {
      "metadata": {
        "id": "Z0qD-NiLbXuA",
        "colab_type": "text"
      },
      "cell_type": "markdown",
      "source": [
        "## 1. 밑바닥부터 시작하는 딥러닝 정리(챕터 6까지)\n",
        "  \n",
        "  ### 1-1. 퍼셉트론\n",
        "  \n",
        "  ![대체 텍스트](https://i.imgur.com/YYnnpLC.png)\n",
        "  \n",
        "  출처 : 밑바닥부터 시작하는 딥러닝\n",
        "  \n",
        "  퍼셉트론은 다수의 신호를 입력으로 받아 하나의 신호를 출력합니다.\n",
        "  \n",
        "  퍼셉트론으로 구성하는 논리회로(AND,OR,NAND)"
      ]
    },
    {
      "metadata": {
        "id": "tIsYbSHOgSEz",
        "colab_type": "code",
        "colab": {
          "autoexec": {
            "startup": false,
            "wait_interval": 0
          },
          "output_extras": [
            {
              "item_id": 1
            }
          ],
          "base_uri": "https://localhost:8080/",
          "height": 85
        },
        "outputId": "73c77707-8153-4ccb-fee9-d4bd907d85bf",
        "executionInfo": {
          "status": "ok",
          "timestamp": 1520427026415,
          "user_tz": -540,
          "elapsed": 686,
          "user": {
            "displayName": "sj jin",
            "photoUrl": "https://lh3.googleusercontent.com/a/default-user=s128",
            "userId": "107618035827318999649"
          }
        }
      },
      "cell_type": "code",
      "source": [
        "import numpy as np\n",
        "\n",
        "def AND(x1, x2):\n",
        "  x = np.array([x1, x2])\n",
        "  w = np.array([0.5,0.5])\n",
        "  b = -0.7\n",
        "  tmp = np.sum(w*x)+b\n",
        "  if tmp <= 0:\n",
        "    return 0\n",
        "  else:\n",
        "    return 1\n",
        "  \n",
        "print(\"AND(0,0) : \",AND(0, 0))\n",
        "print(\"AND(0,1) : \",AND(0, 1))\n",
        "print(\"AND(1,0) : \",AND(1, 0))\n",
        "print(\"AND(1,1) : \",AND(1, 1))"
      ],
      "execution_count": 2,
      "outputs": [
        {
          "output_type": "stream",
          "text": [
            "AND(0,0) :  0\n",
            "AND(0,1) :  0\n",
            "AND(1,0) :  0\n",
            "AND(1,1) :  1\n"
          ],
          "name": "stdout"
        }
      ]
    },
    {
      "metadata": {
        "id": "X7wT98e7gZRE",
        "colab_type": "code",
        "colab": {
          "autoexec": {
            "startup": false,
            "wait_interval": 0
          },
          "output_extras": [
            {
              "item_id": 1
            }
          ],
          "base_uri": "https://localhost:8080/",
          "height": 85
        },
        "outputId": "c2e42b9c-9c1e-4d98-9972-e141ae6cfda9",
        "executionInfo": {
          "status": "ok",
          "timestamp": 1520427147889,
          "user_tz": -540,
          "elapsed": 690,
          "user": {
            "displayName": "sj jin",
            "photoUrl": "https://lh3.googleusercontent.com/a/default-user=s128",
            "userId": "107618035827318999649"
          }
        }
      },
      "cell_type": "code",
      "source": [
        "def OR(x1, x2):\n",
        "  x = np.array([x1, x2])\n",
        "  w = np.array([0.5, 0.5])\n",
        "  b = -0.2\n",
        "  tmp = np.sum(w*x) + b\n",
        "  if tmp <= 0:\n",
        "    return 0\n",
        "  else:\n",
        "    return 1\n",
        "  \n",
        "print(\"OR(0,0) : \",OR(0, 0))\n",
        "print(\"OR(0,1) : \",OR(0, 1))\n",
        "print(\"OR(1,0) : \",OR(1, 0))\n",
        "print(\"OR(1,1) : \",OR(1, 1))"
      ],
      "execution_count": 3,
      "outputs": [
        {
          "output_type": "stream",
          "text": [
            "OR(0,0) :  0\n",
            "OR(0,1) :  1\n",
            "OR(1,0) :  1\n",
            "OR(1,1) :  1\n"
          ],
          "name": "stdout"
        }
      ]
    },
    {
      "metadata": {
        "id": "QNVbxbomhgFN",
        "colab_type": "code",
        "colab": {
          "autoexec": {
            "startup": false,
            "wait_interval": 0
          },
          "output_extras": [
            {
              "item_id": 1
            }
          ],
          "base_uri": "https://localhost:8080/",
          "height": 85
        },
        "outputId": "1ef9624b-cc99-4936-af5a-1e61033a29ef",
        "executionInfo": {
          "status": "ok",
          "timestamp": 1520427295222,
          "user_tz": -540,
          "elapsed": 692,
          "user": {
            "displayName": "sj jin",
            "photoUrl": "https://lh3.googleusercontent.com/a/default-user=s128",
            "userId": "107618035827318999649"
          }
        }
      },
      "cell_type": "code",
      "source": [
        "def NAND(x1, x2):\n",
        "  x = np.array([x1,x2])\n",
        "  w = np.array([-0.5,-0.5])\n",
        "  b = 0.7\n",
        "  tmp = np.sum(w*x)+b\n",
        "  if tmp <= 0:\n",
        "    return 0\n",
        "  else:\n",
        "    return 1\n",
        "\n",
        "print(\"NAND(0,0) : \",NAND(0, 0))\n",
        "print(\"NAND(0,1) : \",NAND(0, 1))\n",
        "print(\"NAND(1,0) : \",NAND(1, 0))\n",
        "print(\"NAND(1,1) : \",NAND(1, 1))"
      ],
      "execution_count": 4,
      "outputs": [
        {
          "output_type": "stream",
          "text": [
            "NAND(0,0) :  1\n",
            "NAND(0,1) :  1\n",
            "NAND(1,0) :  1\n",
            "NAND(1,1) :  0\n"
          ],
          "name": "stdout"
        }
      ]
    },
    {
      "metadata": {
        "id": "grl3Flnbj5Dy",
        "colab_type": "text"
      },
      "cell_type": "markdown",
      "source": [
        "   ![대체 텍스트](https://i.imgur.com/UEBgfhu.png)\n",
        "  \n",
        "    출처 : 밑바닥부터 시작하는 딥러닝\n",
        "  \n",
        "    퍼셉트론 하나로는 논리회로 중 XOR는 해결되지 않음.\n",
        "  \n",
        "    이 퍼셉트론 하나로는 해결되지 않으니 다층 퍼셉트론으로는 해결 가능합니다.\n",
        "    (층을 늘리는 것입니다.)"
      ]
    },
    {
      "metadata": {
        "id": "2XTZYTa9lzxq",
        "colab_type": "code",
        "colab": {
          "autoexec": {
            "startup": false,
            "wait_interval": 0
          },
          "output_extras": [
            {
              "item_id": 1
            }
          ],
          "base_uri": "https://localhost:8080/",
          "height": 85
        },
        "outputId": "0ecdaf45-4bb3-4e21-b659-12dd59975469",
        "executionInfo": {
          "status": "ok",
          "timestamp": 1520428413564,
          "user_tz": -540,
          "elapsed": 674,
          "user": {
            "displayName": "sj jin",
            "photoUrl": "https://lh3.googleusercontent.com/a/default-user=s128",
            "userId": "107618035827318999649"
          }
        }
      },
      "cell_type": "code",
      "source": [
        "def XOR(x1,x2):\n",
        "  s1 = NAND(x1, x2)\n",
        "  s2 = OR(x1, x2)\n",
        "  y = AND(s1, s2)\n",
        "  return y\n",
        "  \n",
        "print(\"XOR(0,0) : \",XOR(0, 0))\n",
        "print(\"XOR(0,1) : \",XOR(0, 1))\n",
        "print(\"XOR(1,0) : \",XOR(1, 0))\n",
        "print(\"XOR(1,1) : \",XOR(1, 1))"
      ],
      "execution_count": 5,
      "outputs": [
        {
          "output_type": "stream",
          "text": [
            "XOR(0,0) :  0\n",
            "XOR(0,1) :  1\n",
            "XOR(1,0) :  1\n",
            "XOR(1,1) :  0\n"
          ],
          "name": "stdout"
        }
      ]
    },
    {
      "metadata": {
        "id": "-ZULcQaQmM7d",
        "colab_type": "text"
      },
      "cell_type": "markdown",
      "source": [
        "  #### 퍼셉트론 정리\n",
        "\n",
        "  - 퍼셉트론은 입출력을 갖춘 알고리즘. 입력을 주면 정해진 규칙에 따른 값을 출력.\n",
        "  - 퍼셉트론에서는 '가중치'와 '편향'을 매개변수로 설정\n",
        "  - 단층 퍼셉트론은 직선형 영역만 표현할 수 있고, 다층 퍼셉트론은 비선형 영역도 표현할 수 있음."
      ]
    },
    {
      "metadata": {
        "id": "WnEmZIaMBZKA",
        "colab_type": "text"
      },
      "cell_type": "markdown",
      "source": [
        "### 1-2. 활성화 함수\n",
        "\n",
        "활성화함수란 임계값을 경계로 출력이 바꿔집니다."
      ]
    },
    {
      "metadata": {
        "id": "b-Gam261qg5G",
        "colab_type": "code",
        "colab": {
          "autoexec": {
            "startup": false,
            "wait_interval": 0
          },
          "output_extras": [
            {
              "item_id": 1
            }
          ],
          "base_uri": "https://localhost:8080/",
          "height": 347
        },
        "outputId": "e0b1c8d7-bc71-415b-ebce-522c79f13715",
        "executionInfo": {
          "status": "ok",
          "timestamp": 1520429572124,
          "user_tz": -540,
          "elapsed": 717,
          "user": {
            "displayName": "sj jin",
            "photoUrl": "https://lh3.googleusercontent.com/a/default-user=s128",
            "userId": "107618035827318999649"
          }
        }
      },
      "cell_type": "code",
      "source": [
        "import matplotlib.pylab as plt\n",
        "\n",
        "def step_function(x):\n",
        "  return np.array(x > 0, dtype=np.int)\n",
        "\n",
        "x = np.arange(-5.0, 5.0, 0.1)\n",
        "y = step_function(x)\n",
        "plt.plot(x,y)\n",
        "plt.ylim(-0.1,1.1)\n",
        "plt.show()"
      ],
      "execution_count": 6,
      "outputs": [
        {
          "output_type": "display_data",
          "data": {
            "image/png": "[encoded data removed]",
            "text/plain": [
              "<matplotlib.figure.Figure at 0x7f674d7c94a8>"
            ]
          },
          "metadata": {
            "tags": []
          }
        }
      ]
    },
    {
      "metadata": {
        "id": "VMR1j_SMqk43",
        "colab_type": "text"
      },
      "cell_type": "markdown",
      "source": [
        "위와 같은 함수처럼 임계값 0을 기준으로 출력값이 0과 1이 달라지게 됩니다.\n",
        "\n",
        "신경망에서 자주 쓰이는 시그모이드의 함수는 아래와 같습니다.\n",
        "\n",
        "![대체 텍스트](https://i.imgur.com/zr3NnxX.png)\n",
        "\n",
        "출처 : 밑바닥부터 시작하는 딥러닝 "
      ]
    },
    {
      "metadata": {
        "id": "vkucoIbtwOn8",
        "colab_type": "code",
        "colab": {
          "autoexec": {
            "startup": false,
            "wait_interval": 0
          },
          "output_extras": [
            {
              "item_id": 1
            }
          ],
          "base_uri": "https://localhost:8080/",
          "height": 347
        },
        "outputId": "5b1da6a0-cf2e-4d76-9d5f-81baed1c680f",
        "executionInfo": {
          "status": "ok",
          "timestamp": 1520431073315,
          "user_tz": -540,
          "elapsed": 1487,
          "user": {
            "displayName": "sj jin",
            "photoUrl": "https://lh3.googleusercontent.com/a/default-user=s128",
            "userId": "107618035827318999649"
          }
        }
      },
      "cell_type": "code",
      "source": [
        " def sigmoid(x):\n",
        "  return 1 / (1 + np.exp(-x))\n",
        "\n",
        "x = np.arange(-5.0, 5.0, 0.1)\n",
        "y = sigmoid(x)\n",
        "plt.plot(x,y)\n",
        "plt.ylim(-0.1, 1.1)\n",
        "plt.show()"
      ],
      "execution_count": 7,
      "outputs": [
        {
          "output_type": "display_data",
          "data": {
            "image/png": "[encoded data removed]",
            "text/plain": [
              "<matplotlib.figure.Figure at 0x7f674d74dda0>"
            ]
          },
          "metadata": {
            "tags": []
          }
        }
      ]
    },
    {
      "metadata": {
        "id": "g-6lEQhtwbya",
        "colab_type": "text"
      },
      "cell_type": "markdown",
      "source": [
        "활성화 함수인 두 함수의 특징은 비선형 함수라는 것.\n",
        "\n",
        "선형함수의 경우 층을 아무리 깊게해도 '은닉층이 없는 네트워크'와 똑같은 기능을 할 수 있는 문제가 있음.\n",
        "\n",
        "h(x) = cx인 경우 3층일때 y(x) = h(h(h(x))) = c*c*c*x \n",
        "\n",
        "a = c^3라고 한다면 y(x) = ax\n",
        "\n",
        "위와 같은 문제가 있기 때문에 활성화 함수는 선형이 아닌 비선형으로 사용됨."
      ]
    },
    {
      "metadata": {
        "id": "I4yvtDnTx__5",
        "colab_type": "code",
        "colab": {
          "autoexec": {
            "startup": false,
            "wait_interval": 0
          },
          "output_extras": [
            {
              "item_id": 1
            }
          ],
          "base_uri": "https://localhost:8080/",
          "height": 347
        },
        "outputId": "dd170f95-693d-42e7-8b3f-787fedaa258d",
        "executionInfo": {
          "status": "ok",
          "timestamp": 1520431533397,
          "user_tz": -540,
          "elapsed": 637,
          "user": {
            "displayName": "sj jin",
            "photoUrl": "https://lh3.googleusercontent.com/a/default-user=s128",
            "userId": "107618035827318999649"
          }
        }
      },
      "cell_type": "code",
      "source": [
        "def relu(x):\n",
        "  return np.maximum(0, x)\n",
        "\n",
        "x = np.arange(-1.0, 1.0, 0.1)\n",
        "y = relu(x)\n",
        "plt.plot(x,y)\n",
        "plt.ylim(-0.1, 1.1)\n",
        "plt.show()"
      ],
      "execution_count": 8,
      "outputs": [
        {
          "output_type": "display_data",
          "data": {
            "image/png": "[encoded data removed]",
            "text/plain": [
              "<matplotlib.figure.Figure at 0x7f674b71d320>"
            ]
          },
          "metadata": {
            "tags": []
          }
        }
      ]
    },
    {
      "metadata": {
        "id": "xg1SRxlvyBdJ",
        "colab_type": "text"
      },
      "cell_type": "markdown",
      "source": [
        "2006년 hinton교수가 sigmoid함수의 문제점을 제기하고 대신 사용된 활성화함수인 Relu의 그래프입니다.\n",
        "지금은 거의 시그모이드 함수 대신 Relu함수가 각광받고 있습니다.\n",
        "\n",
        "![대체 텍스트](https://i.imgur.com/MVQZy25.png)\n",
        "\n",
        "출처 :  밑바닥부터 시작하는 딥러닝\n",
        "\n",
        "### 1-3. 파이썬으로 구성하는 심층 신경망"
      ]
    },
    {
      "metadata": {
        "id": "dXH8-g_i_syx",
        "colab_type": "code",
        "colab": {
          "autoexec": {
            "startup": false,
            "wait_interval": 0
          },
          "output_extras": [
            {
              "item_id": 1
            }
          ],
          "base_uri": "https://localhost:8080/",
          "height": 170
        },
        "outputId": "1fe840a6-60a4-47b1-95d6-4634de4476d0",
        "executionInfo": {
          "status": "ok",
          "timestamp": 1520435170703,
          "user_tz": -540,
          "elapsed": 742,
          "user": {
            "displayName": "sj jin",
            "photoUrl": "https://lh3.googleusercontent.com/a/default-user=s128",
            "userId": "107618035827318999649"
          }
        }
      },
      "cell_type": "code",
      "source": [
        "X = np.array([1.0, 0.5])\n",
        "W1 = np.array([[0.1, 0.3, 0.5], [0.2, 0.4, 0.6]])\n",
        "B1 = np.array([0.1, 0.2, 0.3])\n",
        "\n",
        "print(W1.shape)\n",
        "print(X.shape)\n",
        "print(B1.shape)\n",
        "\n",
        "A1 = np.dot(X, W1) + B1\n",
        "Z1 = sigmoid(A1)\n",
        "\n",
        "print(A1)\n",
        "print(Z1)\n",
        "\n",
        "W2 = np.array([[0.1, 0.4], [0.2, 0.5], [0.3, 0.6]])\n",
        "B2 = np.array([0.1,0.2])\n",
        "\n",
        "print(Z1.shape)\n",
        "print(W2.shape)\n",
        "print(B2.shape)\n",
        "\n",
        "A2 = np.dot(Z1, W2) + B2\n",
        "Z2 = sigmoid(A2)\n",
        "\n",
        "def identity_function(x):\n",
        "  return x\n",
        "\n",
        "W3 = np.array([[0.1, 0.3],[0.2, 0.4]])\n",
        "B3 = np.array([0.1, 0.2])\n",
        "\n",
        "A3 = np.dot(Z2, W3) + B3\n",
        "Y = identity_function(A3)\n",
        "\n",
        "print(Y)"
      ],
      "execution_count": 9,
      "outputs": [
        {
          "output_type": "stream",
          "text": [
            "(2, 3)\n",
            "(2,)\n",
            "(3,)\n",
            "[0.3 0.7 1.1]\n",
            "[0.57444252 0.66818777 0.75026011]\n",
            "(3,)\n",
            "(3, 2)\n",
            "(2,)\n",
            "[0.31682708 0.69627909]\n"
          ],
          "name": "stdout"
        }
      ]
    },
    {
      "metadata": {
        "id": "My6t_9ZSAUNo",
        "colab_type": "text"
      },
      "cell_type": "markdown",
      "source": [
        "### 1-4. softmax 함수\n",
        "\n",
        "softmax함수는 출력을 확률로 해석될 수 있게 해줍니다.\n"
      ]
    },
    {
      "metadata": {
        "id": "VSB46Fn7ArbY",
        "colab_type": "code",
        "colab": {
          "autoexec": {
            "startup": false,
            "wait_interval": 0
          },
          "output_extras": [
            {
              "item_id": 1
            }
          ],
          "base_uri": "https://localhost:8080/",
          "height": 51
        },
        "outputId": "1385df1f-1e26-4ca1-e62b-4716c7da18ed",
        "executionInfo": {
          "status": "ok",
          "timestamp": 1520435381198,
          "user_tz": -540,
          "elapsed": 662,
          "user": {
            "displayName": "sj jin",
            "photoUrl": "https://lh3.googleusercontent.com/a/default-user=s128",
            "userId": "107618035827318999649"
          }
        }
      },
      "cell_type": "code",
      "source": [
        "def softmax(a):\n",
        "  c = np.max(a)\n",
        "  exp_a = np.exp(a - c)\n",
        "  sum_exp_a = np.sum(exp_a)\n",
        "  y = exp_a / sum_exp_a\n",
        "  \n",
        "  return y\n",
        "\n",
        "a = np.array([0.3, 2.9, 4.0])\n",
        "y = softmax(a)\n",
        "print(y)\n",
        "print(np.sum(y))"
      ],
      "execution_count": 10,
      "outputs": [
        {
          "output_type": "stream",
          "text": [
            "[0.01821127 0.24519181 0.73659691]\n",
            "1.0\n"
          ],
          "name": "stdout"
        }
      ]
    },
    {
      "metadata": {
        "id": "q72LxN67AtGI",
        "colab_type": "text"
      },
      "cell_type": "markdown",
      "source": [
        "출력의 총합은 1이되며 y[0]=1.8%, y[1]=24.5% y[2]=73.65% 등 확률로 해석가능."
      ]
    },
    {
      "metadata": {
        "id": "4tT0Xnb0CMPF",
        "colab_type": "text"
      },
      "cell_type": "markdown",
      "source": [
        "신경망 정리\n",
        "\n",
        "\n",
        "*   기계학습 문제는 크게 회귀와 분류로 나누어짐\n",
        "*   출력층의 활성화 함수로는 회귀에서는 주로 항등 함수를, 분류에서는 소프트맥스함수 사용\n",
        "*   입력 데이터를 묶은 것을 배치라 하며, 배치 단위로 추론 처리를 진행하면 결과를 훨씬 빠르게 얻을 수 있음. \n",
        "\n",
        "\n",
        "\n"
      ]
    },
    {
      "metadata": {
        "id": "arcRC0nmB9rW",
        "colab_type": "text"
      },
      "cell_type": "markdown",
      "source": [
        "### 1-5. 손실함수\n",
        "\n",
        "\n",
        "손실함수에는 평균 제곱 오차와 교차 엔트로피 오차를 사용합니다.\n",
        "\n",
        "-평균 제곱 오차\n",
        "\n",
        "![대체 텍스트](https://i.imgur.com/HobMT11.png)\n",
        "\n",
        "출처 : 밑바닥부터 시작하는 딥러닝"
      ]
    },
    {
      "metadata": {
        "id": "p3LZx82qDJAF",
        "colab_type": "code",
        "colab": {
          "autoexec": {
            "startup": false,
            "wait_interval": 0
          },
          "output_extras": [
            {
              "item_id": 1
            }
          ],
          "base_uri": "https://localhost:8080/",
          "height": 51
        },
        "outputId": "a7d604ea-ab58-4176-f740-b7f376c58346",
        "executionInfo": {
          "status": "ok",
          "timestamp": 1520436260328,
          "user_tz": -540,
          "elapsed": 803,
          "user": {
            "displayName": "sj jin",
            "photoUrl": "https://lh3.googleusercontent.com/a/default-user=s128",
            "userId": "107618035827318999649"
          }
        }
      },
      "cell_type": "code",
      "source": [
        "# 평균 제곱 오차\n",
        "def mean_spuared_error(y, t):\n",
        "  return 0.5 * np.sum((y-t)**2)\n",
        "\n",
        "t = [0, 0, 1, 0, 0, 0, 0, 0, 0, 0]\n",
        "y1 = [0.1, 0.05, 0.6, 0.0, 0.05, 0.1, 0.0, 0.1, 0.0, 0.0]\n",
        "y2 = [0.1, 0.05, 0.1, 0.0, 0.05, 0.1, 0.0, 0.6, 0.0, 0.0]\n",
        "\n",
        "print(mean_spuared_error(np.array(y1),np.array(t)))\n",
        "print(mean_spuared_error(np.array(y2),np.array(t)))"
      ],
      "execution_count": 12,
      "outputs": [
        {
          "output_type": "stream",
          "text": [
            "0.09750000000000003\n",
            "0.5975\n"
          ],
          "name": "stdout"
        }
      ]
    },
    {
      "metadata": {
        "id": "k4LjxqxnEMNK",
        "colab_type": "text"
      },
      "cell_type": "markdown",
      "source": [
        "평균 제곱 오차가 적은 것이 정답에 더 가깝다는 것을 볼 수 있습니다.\n",
        "\n",
        "-교차 엔트로피 오차\n",
        "\n",
        "![대체 텍스트](https://i.imgur.com/CYuaj8x.png)\n",
        "\n",
        "\n",
        "출처 :  밑바닥부터 시작하는 딥러닝"
      ]
    },
    {
      "metadata": {
        "id": "aScd8eCwEXRP",
        "colab_type": "code",
        "colab": {
          "autoexec": {
            "startup": false,
            "wait_interval": 0
          },
          "output_extras": [
            {
              "item_id": 1
            }
          ],
          "base_uri": "https://localhost:8080/",
          "height": 51
        },
        "outputId": "056859da-3ec8-4996-92b3-6a0539f6ba0f",
        "executionInfo": {
          "status": "ok",
          "timestamp": 1520436460041,
          "user_tz": -540,
          "elapsed": 607,
          "user": {
            "displayName": "sj jin",
            "photoUrl": "https://lh3.googleusercontent.com/a/default-user=s128",
            "userId": "107618035827318999649"
          }
        }
      },
      "cell_type": "code",
      "source": [
        "# 교차 엔트로피 오차\n",
        "def cross_entropy_error(y, t):\n",
        "  delta = 1e-7\n",
        "  return -np.sum(t*np.log(y + delta))\n",
        "\n",
        "print(cross_entropy_error(np.array(y1),np.array(t)))\n",
        "print(cross_entropy_error(np.array(y2),np.array(t)))"
      ],
      "execution_count": 13,
      "outputs": [
        {
          "output_type": "stream",
          "text": [
            "0.510825457099338\n",
            "2.302584092994546\n"
          ],
          "name": "stdout"
        }
      ]
    },
    {
      "metadata": {
        "id": "H5PrQZY6E4AH",
        "colab_type": "text"
      },
      "cell_type": "markdown",
      "source": [
        "교차 엔트로피 오차도 적은 것이 정답에 가깝다는 것을 볼 수 있습니다. \n",
        "\n",
        "![대체 텍스트](https://i.imgur.com/O317hMu.png)\n",
        "\n",
        "출처 : 밑바닥부터 시작하는 딥러닝\n",
        "\n",
        "계단함수는 한순간만 변화가 일어나지만 시그모이드 함수 미분(접선)은 위의 그림과 같이 출력(세로축의 값)이 연속적으로 변하고 곡선의 기울기도 연속적으로 변합니다.\n",
        "\n",
        "시그모이드 함수의 이러한 성질은 신경망이 올바르게 학습할 수 있도록 하게합니다. \n",
        "\n",
        "(어느 장소에서도 함수의 미분이 0이 되지 않는 성질입니다.)\n"
      ]
    },
    {
      "metadata": {
        "id": "Y0pgJLtKYy0K",
        "colab_type": "text"
      },
      "cell_type": "markdown",
      "source": [
        "### 1-6. 기울기(미분)"
      ]
    },
    {
      "metadata": {
        "id": "HyS18hOvbibI",
        "colab_type": "code",
        "colab": {
          "autoexec": {
            "startup": false,
            "wait_interval": 0
          },
          "output_extras": [
            {
              "item_id": 1
            },
            {
              "item_id": 2
            }
          ],
          "base_uri": "https://localhost:8080/",
          "height": 379
        },
        "outputId": "9e51b8d3-da23-428e-bbfe-a0d7e3bacd4a",
        "executionInfo": {
          "status": "ok",
          "timestamp": 1520475995330,
          "user_tz": -540,
          "elapsed": 890,
          "user": {
            "displayName": "sj jin",
            "photoUrl": "https://lh3.googleusercontent.com/a/default-user=s128",
            "userId": "107618035827318999649"
          }
        }
      },
      "cell_type": "code",
      "source": [
        "import numpy as np\n",
        "import matplotlib.pylab as plt\n",
        "\n",
        "\n",
        "def numerical_diff(f, x):\n",
        "    h = 1e-4 # 0.0001\n",
        "    return (f(x+h) - f(x-h)) / (2*h)\n",
        "\n",
        "\n",
        "def function_1(x):\n",
        "    return 0.01*x**2 + 0.1*x \n",
        "\n",
        "\n",
        "def tangent_line(f, x):\n",
        "    d = numerical_diff(f, x)\n",
        "    print(d)\n",
        "    y = f(x) - d*x\n",
        "    return lambda t: d*t + y\n",
        "     \n",
        "x = np.arange(0.0, 20.0, 0.1)\n",
        "y = function_1(x)\n",
        "plt.xlabel(\"x\")\n",
        "plt.ylabel(\"f(x)\")\n",
        "\n",
        "tf = tangent_line(function_1, 5)\n",
        "y2 = tf(x)\n",
        "\n",
        "plt.plot(x, y)\n",
        "plt.plot(x, y2)\n",
        "plt.show()\n"
      ],
      "execution_count": 9,
      "outputs": [
        {
          "output_type": "stream",
          "text": [
            "0.1999999999990898\n"
          ],
          "name": "stdout"
        },
        {
          "output_type": "display_data",
          "data": {
            "image/png": "[encoded data removed]",
            "text/plain": [
              "<matplotlib.figure.Figure at 0x7fb433742d68>"
            ]
          },
          "metadata": {
            "tags": []
          }
        }
      ]
    },
    {
      "metadata": {
        "id": "sM2qUlnZbper",
        "colab_type": "text"
      },
      "cell_type": "markdown",
      "source": [
        "2차 방정식의 미분을 그래프화한 것입니다. \n",
        "\n",
        "파란색의 선이 2차 방정식의 선이고 초록색은 2차 방정식을 미분한 값입니다."
      ]
    },
    {
      "metadata": {
        "id": "-JcE9HnFbom9",
        "colab_type": "code",
        "colab": {
          "autoexec": {
            "startup": false,
            "wait_interval": 0
          },
          "output_extras": [
            {
              "item_id": 1
            },
            {
              "item_id": 2
            }
          ],
          "base_uri": "https://localhost:8080/",
          "height": 383
        },
        "outputId": "d6d8bee1-d9d4-4277-c591-b8e0704730bd",
        "executionInfo": {
          "status": "ok",
          "timestamp": 1520476171806,
          "user_tz": -540,
          "elapsed": 1101,
          "user": {
            "displayName": "sj jin",
            "photoUrl": "https://lh3.googleusercontent.com/a/default-user=s128",
            "userId": "107618035827318999649"
          }
        }
      },
      "cell_type": "code",
      "source": [
        "import numpy as np\n",
        "import matplotlib.pylab as plt\n",
        "from mpl_toolkits.mplot3d import Axes3D\n",
        "\n",
        "\n",
        "def _numerical_gradient_no_batch(f, x):\n",
        "    h = 1e-4 # 0.0001\n",
        "    grad = np.zeros_like(x) # x와 형상이 같은 배열을 생성\n",
        "    \n",
        "    for idx in range(x.size):\n",
        "        tmp_val = x[idx]\n",
        "        \n",
        "        # f(x+h) 계산\n",
        "        x[idx] = float(tmp_val) + h\n",
        "        fxh1 = f(x)\n",
        "        \n",
        "        # f(x-h) 계산\n",
        "        x[idx] = tmp_val - h \n",
        "        fxh2 = f(x) \n",
        "        \n",
        "        grad[idx] = (fxh1 - fxh2) / (2*h)\n",
        "        x[idx] = tmp_val # 값 복원\n",
        "        \n",
        "    return grad\n",
        "\n",
        "\n",
        "def numerical_gradient(f, X):\n",
        "    if X.ndim == 1:\n",
        "        return _numerical_gradient_no_batch(f, X)\n",
        "    else:\n",
        "        grad = np.zeros_like(X)\n",
        "        \n",
        "        for idx, x in enumerate(X):\n",
        "            grad[idx] = _numerical_gradient_no_batch(f, x)\n",
        "        \n",
        "        return grad\n",
        "\n",
        "\n",
        "def function_2(x):\n",
        "    if x.ndim == 1:\n",
        "        return np.sum(x**2)\n",
        "    else:\n",
        "        return np.sum(x**2, axis=1)\n",
        "\n",
        "\n",
        "def tangent_line(f, x):\n",
        "    d = numerical_gradient(f, x)\n",
        "    print(d)\n",
        "    y = f(x) - d*x\n",
        "    return lambda t: d*t + y\n",
        "     \n",
        "if __name__ == '__main__':\n",
        "    x0 = np.arange(-2, 2.5, 0.25)\n",
        "    x1 = np.arange(-2, 2.5, 0.25)\n",
        "    X, Y = np.meshgrid(x0, x1)\n",
        "    \n",
        "    X = X.flatten()\n",
        "    Y = Y.flatten()\n",
        "    \n",
        "    grad = numerical_gradient(function_2, np.array([X, Y]) )\n",
        "    \n",
        "    plt.figure()\n",
        "    plt.quiver(X, Y, -grad[0], -grad[1],  angles=\"xy\",color=\"#666666\")#,headwidth=10,scale=40,color=\"#444444\")\n",
        "    plt.xlim([-2, 2])\n",
        "    plt.ylim([-2, 2])\n",
        "    plt.xlabel('x0')\n",
        "    plt.ylabel('x1')\n",
        "    plt.grid()\n",
        "    plt.legend()\n",
        "    plt.draw()\n",
        "    plt.show()\n"
      ],
      "execution_count": 10,
      "outputs": [
        {
          "output_type": "stream",
          "text": [
            "No handles with labels found to put in legend.\n"
          ],
          "name": "stderr"
        },
        {
          "output_type": "display_data",
          "data": {
            "image/png": "[encoded data removed]",
            "text/plain": [
              "<matplotlib.figure.Figure at 0x7fb430dfc860>"
            ]
          },
          "metadata": {
            "tags": []
          }
        }
      ]
    },
    {
      "metadata": {
        "id": "JQIqhElycWwb",
        "colab_type": "text"
      },
      "cell_type": "markdown",
      "source": [
        "기울기(미분)를 좀 더 명확하게 표현한 모습입니다\n",
        "\n",
        "책에서는 **기울기가 가리키는 쪽은 각 장소에서 함수의 출력 값을 가장 크게 줄이는 방향**이라고 표현하고 있습니다.\n",
        "\n",
        "이제 신경망 학습에서 사용되는 경사하강법에서 살펴보면 글로 풀자면 아래와 같습니다.\n",
        "\n",
        "경사하강법은 현 위치에서 기울어진 방향으로 일정 거리만큼 이동합니다.\n",
        "그런 다음 이동한 곳에서도 마찬가지로 기울기를 구하고, 또 그 기울어진 방향으로 나아가기를 반복합니다.\n",
        "이렇게 함수 값을 점차 줄이는 것을 경사하강법이라고 합니다.\n",
        "\n",
        "![대체 텍스트](https://i.imgur.com/gFwbYl3.png)\n",
        "\n",
        "출처 : 밑바닥부터 시작하는 딥러닝\n"
      ]
    },
    {
      "metadata": {
        "id": "DCrIMoHSepO5",
        "colab_type": "text"
      },
      "cell_type": "markdown",
      "source": [
        "#### 신경망 학습 정리\n",
        "\n",
        "* 기계학습에서 사용하는 데이터셋은 훈련 데이터와 시험 데이터를 나눠 사용\n",
        "* 훈련 데이터로 학습한 모델의 범용 능력을 시험 데이터로 평가\n",
        "* 신경망 학습은 손실 함수를 지표로, 손실 함수의 값이 작아지는 방향으로 가중치 매개변수를 갱신\n",
        "* 가중치 매개변수를 갱신할 때는 가중치 매개변수의 기울기를 이용하고, 기울어진 방향으로 가중치의 값을 갱신하는 작업을 반복\n",
        "* 아주 작은 값을 주었을 때의 차분으로 미분하는 것을 수치 미분이라고 한다.\n",
        "* 수치 미분을 이용해 가중치 매개변수의 기울기를 구할 수 있다\n",
        "\n",
        "\n"
      ]
    },
    {
      "metadata": {
        "id": "QGpfexgmxoEn",
        "colab_type": "text"
      },
      "cell_type": "markdown",
      "source": [
        "#### 1-7. 오차역전파법\n",
        "\n",
        "* 순전파는 통상의 계산을 수행. 역전파는 노드의 미분을 구함\n",
        "* 오차역전파법 : 신경망의 구성 요소를 계층으로 구현하여 기울기를 효율적으로 계산\n",
        "* 수치 미분에 비해 오차역전파법이 더 빠르게 기울기를 구할 수 있음 (구체적인 계산 과정은 http://nbviewer.jupyter.org/github/SDRLurker/deep-learning/blob/master/5%EC%9E%A5.ipynb 참고)\n",
        "\n",
        "예시) ReLU 의 오차역전파법\n",
        "\n",
        "![대체 텍스트](https://i.imgur.com/oid5cch.png)\n",
        "\n",
        "출처 : 밑바닥부터 시작하는 딥러닝\n",
        "\n",
        "ReLU 계층은 전기 회로의 '스위치' 비유\n",
        "\n",
        "순전파 때 전류가 흐르고 있으면 스위치가 ON, 흐르지 않으면 OFF\n",
        "\n",
        "역전파 때 스위치가 ON이라면 전류가 그대로 흐르고, OFF면 더 이상 흐리지 않습니다."
      ]
    },
    {
      "metadata": {
        "id": "3TylPxEd72l2",
        "colab_type": "text"
      },
      "cell_type": "markdown",
      "source": [
        "### 1-8. 최적화(optimiztion) 방법\n",
        "\n",
        "![대체 텍스트](https://i.imgur.com/XMPO5Lp.png)\n",
        "\n",
        "출처 : 밑바닥부터 시작하는 딥러닝\n",
        "\n",
        "SGD(확률적 경사 하강법) :  매개변수 기울기를 구해 기울어진 방향으로 매개변수 값을 갱신하여 점점 최적의 매개변수로 다가가는 방법\n",
        "\n",
        "Momentum : 공이 그릇을 구르는 듯한 물리 법칙에 따르는 움직임\n",
        "\n",
        "AdaGrad: 매개변수의 원소마다 적응적으로 갱신 정도를 조정\n",
        "\n",
        "Adam: 모멘텀과 Adagrad 기법을 융합\n",
        "\n",
        "![대체 텍스트](https://i.imgur.com/CIrgMm8.png)\n",
        "\n",
        "일반적으로 SGD보다 다른 세 기법이 빠르게 학습하고, 때로는 최종 정확도도 높음.\n",
        "요즘은 거의 Adam으로 쓰는 추세임.\n",
        "\n",
        "### 1-9. 드롭아웃\n",
        "\n",
        "![대체 텍스트](https://i.imgur.com/tGpF9Mz.png)\n",
        "\n",
        "뉴런을 임의로 삭제하면서 학습하는 방법으로 오버피팅을 방지하는 방법 중 하나입니다.\n",
        "\n",
        "훈련때에만 뉴런을 랜덤하게 삭제하며 시험때에는 모든 뉴런에 신호를 전달합니다.\n"
      ]
    },
    {
      "metadata": {
        "id": "-FSJzH6BLPuI",
        "colab_type": "text"
      },
      "cell_type": "markdown",
      "source": [
        "## 2. 텐서플로우 맛 정리\n",
        "\n",
        "### 2-1. 선형 회귀 모델"
      ]
    },
    {
      "metadata": {
        "id": "6K0R4NWfTOVe",
        "colab_type": "code",
        "colab": {
          "autoexec": {
            "startup": false,
            "wait_interval": 0
          },
          "output_extras": [
            {
              "item_id": 4
            }
          ],
          "base_uri": "https://localhost:8080/",
          "height": 10925
        },
        "outputId": "f9c82aa8-7e81-4290-f193-73cf8946080e",
        "executionInfo": {
          "status": "ok",
          "timestamp": 1520502524721,
          "user_tz": -540,
          "elapsed": 1580,
          "user": {
            "displayName": "sj jin",
            "photoUrl": "https://lh3.googleusercontent.com/a/default-user=s128",
            "userId": "107618035827318999649"
          }
        }
      },
      "cell_type": "code",
      "source": [
        "import tensorflow as tf\n",
        "\n",
        "x_data = [1, 2, 3]\n",
        "y_data = [1, 2, 3]\n",
        "\n",
        "W = tf.Variable(tf.random_uniform([1], -1.0, 1.0))\n",
        "b = tf.Variable(tf.random_uniform([1], -1.0, 1.0))\n",
        "\n",
        "# name: 나중에 텐서보드등으로 값의 변화를 추적하거나 살펴보기 쉽게 하기 위해 이름을 붙여줍니다.\n",
        "X = tf.placeholder(tf.float32, name=\"X\")\n",
        "Y = tf.placeholder(tf.float32, name=\"Y\")\n",
        "print(X)\n",
        "print(Y)\n",
        "\n",
        "# X 와 Y 의 상관 관계를 분석하기 위한 가설 수식을 작성합니다.\n",
        "# y = W * x + b\n",
        "# W 와 X 가 행렬이 아니므로 tf.matmul 이 아니라 기본 곱셈 기호를 사용했습니다.\n",
        "hypothesis = W * X + b\n",
        "\n",
        "# 손실 함수를 작성합니다.\n",
        "# mean(h - Y)^2 : 예측값과 실제값의 거리를 비용(손실) 함수로 정합니다.\n",
        "cost = tf.reduce_mean(tf.square(hypothesis - Y))\n",
        "# 텐서플로우에 기본적으로 포함되어 있는 함수를 이용해 경사 하강법 최적화를 수행합니다.\n",
        "optimizer = tf.train.GradientDescentOptimizer(learning_rate=0.1)\n",
        "# 비용을 최소화 하는 것이 최종 목표\n",
        "train_op = optimizer.minimize(cost)\n",
        "\n",
        "# 세션을 생성하고 초기화합니다.\n",
        "with tf.Session() as sess:\n",
        "    sess.run(tf.global_variables_initializer())\n",
        "\n",
        "    # 최적화를 100번 수행합니다.\n",
        "    for step in range(100):\n",
        "        # sess.run 을 통해 train_op 와 cost 그래프를 계산합니다.\n",
        "        # 이 때, 가설 수식에 넣어야 할 실제값을 feed_dict 을 통해 전달합니다.\n",
        "        _, cost_val = sess.run([train_op, cost], feed_dict={X: x_data, Y: y_data})\n",
        "        \n",
        "        print(\"Step : \",step)\n",
        "        print(\"X : \",sess.run(X, feed_dict={X:x_data}))\n",
        "        print(\"W : \",sess.run(W))\n",
        "        print(\"b : \",sess.run(b))\n",
        "        print(\"hypothesis : \", sess.run(hypothesis, feed_dict={X: x_data, Y: y_data}))\n",
        "        print(\"cost : \", sess.run(cost, feed_dict={X: x_data, Y: y_data}))\n",
        "\n",
        "    # 최적화가 완료된 모델에 테스트 값을 넣고 결과가 잘 나오는지 확인해봅니다.\n",
        "    print(\"\\n=== Test ===\")\n",
        "    print(\"X: 5, Y:\", sess.run(hypothesis, feed_dict={X: 5}))\n",
        "    print(\"X: 2.5, Y:\", sess.run(hypothesis, feed_dict={X: 2.5}))"
      ],
      "execution_count": 26,
      "outputs": [
        {
          "output_type": "stream",
          "text": [
            "Tensor(\"X_9:0\", dtype=float32)\n",
            "Tensor(\"Y_9:0\", dtype=float32)\n",
            "Step :  0\n",
            "X :  [1. 2. 3.]\n",
            "W :  [0.70372397]\n",
            "b :  [0.9006662]\n",
            "hypothesis :  [1.6043901 2.308114  3.0118382]\n",
            "cost :  0.15345395\n",
            "Step :  1\n",
            "X :  [1. 2. 3.]\n",
            "W :  [0.61998177]\n",
            "b :  [0.8390433]\n",
            "hypothesis :  [1.4590251 2.079007  2.6989887]\n",
            "cost :  0.102518\n",
            "Step :  2\n",
            "X :  [1. 2. 3.]\n",
            "W :  [0.6390481]\n",
            "b :  [0.82324195]\n",
            "hypothesis :  [1.46229   2.1013381 2.7403862]\n",
            "cost :  0.09712694\n",
            "Step :  3\n",
            "X :  [1. 2. 3.]\n",
            "W :  [0.64663976]\n",
            "b :  [0.80297434]\n",
            "hypothesis :  [1.449614  2.0962539 2.7428937]\n",
            "cost :  0.09250709\n",
            "Step :  4\n",
            "X :  [1. 2. 3.]\n",
            "W :  [0.65525293]\n",
            "b :  [0.7837236]\n",
            "hypothesis :  [1.4389765 2.0942295 2.7494824]\n",
            "cost :  0.08811288\n",
            "Step :  5\n",
            "X :  [1. 2. 3.]\n",
            "W :  [0.6635274]\n",
            "b :  [0.7648777]\n",
            "hypothesis :  [1.428405  2.0919325 2.7554598]\n",
            "cost :  0.08392746\n",
            "Step :  6\n",
            "X :  [1. 2. 3.]\n",
            "W :  [0.67161745]\n",
            "b :  [0.7464912]\n",
            "hypothesis :  [1.4181087 2.089726  2.7613435]\n",
            "cost :  0.079940856\n",
            "Step :  7\n",
            "X :  [1. 2. 3.]\n",
            "W :  [0.67951137]\n",
            "b :  [0.72854596]\n",
            "hypothesis :  [1.4080573 2.0875688 2.76708  ]\n",
            "cost :  0.07614359\n",
            "Step :  8\n",
            "X :  [1. 2. 3.]\n",
            "W :  [0.6872157]\n",
            "b :  [0.7110322]\n",
            "hypothesis :  [1.398248  2.0854635 2.772679 ]\n",
            "cost :  0.072526745\n",
            "Step :  9\n",
            "X :  [1. 2. 3.]\n",
            "W :  [0.6947349]\n",
            "b :  [0.6939395]\n",
            "hypothesis :  [1.3886744 2.0834093 2.7781441]\n",
            "cost :  0.06908164\n",
            "Step :  10\n",
            "X :  [1. 2. 3.]\n",
            "W :  [0.70207316]\n",
            "b :  [0.67725766]\n",
            "hypothesis :  [1.3793309 2.081404  2.7834773]\n",
            "cost :  0.0658002\n",
            "Step :  11\n",
            "X :  [1. 2. 3.]\n",
            "W :  [0.70923513]\n",
            "b :  [0.6609768]\n",
            "hypothesis :  [1.370212  2.079447  2.7886822]\n",
            "cost :  0.06267464\n",
            "Step :  12\n",
            "X :  [1. 2. 3.]\n",
            "W :  [0.71622497]\n",
            "b :  [0.6450874]\n",
            "hypothesis :  [1.3613124 2.0775373 2.7937624]\n",
            "cost :  0.05969754\n",
            "Step :  13\n",
            "X :  [1. 2. 3.]\n",
            "W :  [0.72304666]\n",
            "b :  [0.62957996]\n",
            "hypothesis :  [1.3526266 2.0756733 2.79872  ]\n",
            "cost :  0.056861877\n",
            "Step :  14\n",
            "X :  [1. 2. 3.]\n",
            "W :  [0.72970444]\n",
            "b :  [0.6144453]\n",
            "hypothesis :  [1.3441498 2.0738542 2.8035588]\n",
            "cost :  0.054160893\n",
            "Step :  15\n",
            "X :  [1. 2. 3.]\n",
            "W :  [0.7362021]\n",
            "b :  [0.59967446]\n",
            "hypothesis :  [1.3358766 2.0720787 2.8082807]\n",
            "cost :  0.051588237\n",
            "Step :  16\n",
            "X :  [1. 2. 3.]\n",
            "W :  [0.7425437]\n",
            "b :  [0.5852587]\n",
            "hypothesis :  [1.3278024 2.070346  2.8128898]\n",
            "cost :  0.04913774\n",
            "Step :  17\n",
            "X :  [1. 2. 3.]\n",
            "W :  [0.74873275]\n",
            "b :  [0.5711895]\n",
            "hypothesis :  [1.3199222 2.068655  2.8173876]\n",
            "cost :  0.04680368\n",
            "Step :  18\n",
            "X :  [1. 2. 3.]\n",
            "W :  [0.7547731]\n",
            "b :  [0.5574585]\n",
            "hypothesis :  [1.3122315 2.0670047 2.8217778]\n",
            "cost :  0.04458044\n",
            "Step :  19\n",
            "X :  [1. 2. 3.]\n",
            "W :  [0.7606681]\n",
            "b :  [0.5440576]\n",
            "hypothesis :  [1.3047256 2.065394  2.826062 ]\n",
            "cost :  0.04246284\n",
            "Step :  20\n",
            "X :  [1. 2. 3.]\n",
            "W :  [0.7664215]\n",
            "b :  [0.53097886]\n",
            "hypothesis :  [1.2974004 2.0638218 2.8302433]\n",
            "cost :  0.040445838\n",
            "Step :  21\n",
            "X :  [1. 2. 3.]\n",
            "W :  [0.77203655]\n",
            "b :  [0.51821446]\n",
            "hypothesis :  [1.290251  2.0622876 2.8343241]\n",
            "cost :  0.03852463\n",
            "Step :  22\n",
            "X :  [1. 2. 3.]\n",
            "W :  [0.77751666]\n",
            "b :  [0.505757]\n",
            "hypothesis :  [1.2832737 2.0607903 2.838307 ]\n",
            "cost :  0.0366947\n",
            "Step :  23\n",
            "X :  [1. 2. 3.]\n",
            "W :  [0.782865]\n",
            "b :  [0.4935989]\n",
            "hypothesis :  [1.2764639 2.0593288 2.8421938]\n",
            "cost :  0.034951653\n",
            "Step :  24\n",
            "X :  [1. 2. 3.]\n",
            "W :  [0.7880848]\n",
            "b :  [0.48173314]\n",
            "hypothesis :  [1.269818  2.0579028 2.8459876]\n",
            "cost :  0.033291433\n",
            "Step :  25\n",
            "X :  [1. 2. 3.]\n",
            "W :  [0.79317904]\n",
            "b :  [0.4701526]\n",
            "hypothesis :  [1.2633317 2.0565107 2.8496897]\n",
            "cost :  0.031710066\n",
            "Step :  26\n",
            "X :  [1. 2. 3.]\n",
            "W :  [0.7981509]\n",
            "b :  [0.45885044]\n",
            "hypothesis :  [1.2570014 2.0551522 2.853303 ]\n",
            "cost :  0.030203834\n",
            "Step :  27\n",
            "X :  [1. 2. 3.]\n",
            "W :  [0.80300325]\n",
            "b :  [0.44782]\n",
            "hypothesis :  [1.2508233 2.0538266 2.8568296]\n",
            "cost :  0.02876912\n",
            "Step :  28\n",
            "X :  [1. 2. 3.]\n",
            "W :  [0.8077389]\n",
            "b :  [0.43705472]\n",
            "hypothesis :  [1.2447937 2.0525324 2.8602715]\n",
            "cost :  0.027402552\n",
            "Step :  29\n",
            "X :  [1. 2. 3.]\n",
            "W :  [0.8123607]\n",
            "b :  [0.4265482]\n",
            "hypothesis :  [1.2389089 2.0512695 2.8636303]\n",
            "cost :  0.026100906\n",
            "Step :  30\n",
            "X :  [1. 2. 3.]\n",
            "W :  [0.81687146]\n",
            "b :  [0.4162943]\n",
            "hypothesis :  [1.2331657 2.0500371 2.8669088]\n",
            "cost :  0.024861082\n",
            "Step :  31\n",
            "X :  [1. 2. 3.]\n",
            "W :  [0.8212737]\n",
            "b :  [0.40628687]\n",
            "hypothesis :  [1.2275605 2.0488343 2.870108 ]\n",
            "cost :  0.02368018\n",
            "Step :  32\n",
            "X :  [1. 2. 3.]\n",
            "W :  [0.82557017]\n",
            "b :  [0.39652002]\n",
            "hypothesis :  [1.2220902 2.0476604 2.8732305]\n",
            "cost :  0.022555368\n",
            "Step :  33\n",
            "X :  [1. 2. 3.]\n",
            "W :  [0.82976335]\n",
            "b :  [0.38698795]\n",
            "hypothesis :  [1.2167513 2.0465147 2.876278 ]\n",
            "cost :  0.021483973\n",
            "Step :  34\n",
            "X :  [1. 2. 3.]\n",
            "W :  [0.8338557]\n",
            "b :  [0.377685]\n",
            "hypothesis :  [1.2115407 2.0453963 2.8792522]\n",
            "cost :  0.020463442\n",
            "Step :  35\n",
            "X :  [1. 2. 3.]\n",
            "W :  [0.8378497]\n",
            "b :  [0.36860573]\n",
            "hypothesis :  [1.2064555 2.044305  2.882155 ]\n",
            "cost :  0.01949142\n",
            "Step :  36\n",
            "X :  [1. 2. 3.]\n",
            "W :  [0.84174764]\n",
            "b :  [0.3597447]\n",
            "hypothesis :  [1.2014923 2.04324   2.8849876]\n",
            "cost :  0.018565571\n",
            "Step :  37\n",
            "X :  [1. 2. 3.]\n",
            "W :  [0.84555197]\n",
            "b :  [0.3510967]\n",
            "hypothesis :  [1.1966486 2.0422006 2.8877525]\n",
            "cost :  0.017683683\n",
            "Step :  38\n",
            "X :  [1. 2. 3.]\n",
            "W :  [0.8492648]\n",
            "b :  [0.34265658]\n",
            "hypothesis :  [1.1919214 2.041186  2.890451 ]\n",
            "cost :  0.016843697\n",
            "Step :  39\n",
            "X :  [1. 2. 3.]\n",
            "W :  [0.85288835]\n",
            "b :  [0.33441937]\n",
            "hypothesis :  [1.1873077 2.040196  2.8930845]\n",
            "cost :  0.016043605\n",
            "Step :  40\n",
            "X :  [1. 2. 3.]\n",
            "W :  [0.8564248]\n",
            "b :  [0.32638016]\n",
            "hypothesis :  [1.182805  2.0392299 2.8956547]\n",
            "cost :  0.015281525\n",
            "Step :  41\n",
            "X :  [1. 2. 3.]\n",
            "W :  [0.8598762]\n",
            "b :  [0.3185342]\n",
            "hypothesis :  [1.1784104 2.0382867 2.8981628]\n",
            "cost :  0.014555651\n",
            "Step :  42\n",
            "X :  [1. 2. 3.]\n",
            "W :  [0.8632447]\n",
            "b :  [0.31087688]\n",
            "hypothesis :  [1.1741216 2.0373664 2.900611 ]\n",
            "cost :  0.013864257\n",
            "Step :  43\n",
            "X :  [1. 2. 3.]\n",
            "W :  [0.8665322]\n",
            "b :  [0.30340362]\n",
            "hypothesis :  [1.1699358 2.036468  2.903    ]\n",
            "cost :  0.013205693\n",
            "Step :  44\n",
            "X :  [1. 2. 3.]\n",
            "W :  [0.8697407]\n",
            "b :  [0.29611]\n",
            "hypothesis :  [1.1658508 2.0355914 2.905332 ]\n",
            "cost :  0.012578412\n",
            "Step :  45\n",
            "X :  [1. 2. 3.]\n",
            "W :  [0.87287205]\n",
            "b :  [0.28899172]\n",
            "hypothesis :  [1.1618638 2.034736  2.9076078]\n",
            "cost :  0.011980931\n",
            "Step :  46\n",
            "X :  [1. 2. 3.]\n",
            "W :  [0.8759281]\n",
            "b :  [0.28204456]\n",
            "hypothesis :  [1.1579727 2.0339007 2.909829 ]\n",
            "cost :  0.01141182\n",
            "Step :  47\n",
            "X :  [1. 2. 3.]\n",
            "W :  [0.8789107]\n",
            "b :  [0.2752644]\n",
            "hypothesis :  [1.1541752 2.0330858 2.9119966]\n",
            "cost :  0.01086975\n",
            "Step :  48\n",
            "X :  [1. 2. 3.]\n",
            "W :  [0.88182163]\n",
            "b :  [0.26864725]\n",
            "hypothesis :  [1.1504688 2.0322905 2.914112 ]\n",
            "cost :  0.010353425\n",
            "Step :  49\n",
            "X :  [1. 2. 3.]\n",
            "W :  [0.88466257]\n",
            "b :  [0.26218915]\n",
            "hypothesis :  [1.1468518 2.0315142 2.9161768]\n",
            "cost :  0.009861639\n",
            "Step :  50\n",
            "X :  [1. 2. 3.]\n",
            "W :  [0.8874352]\n",
            "b :  [0.2558863]\n",
            "hypothesis :  [1.1433215 2.0307567 2.918192 ]\n",
            "cost :  0.009393199\n",
            "Step :  51\n",
            "X :  [1. 2. 3.]\n",
            "W :  [0.8901411]\n",
            "b :  [0.24973494]\n",
            "hypothesis :  [1.1398761 2.0300171 2.9201584]\n",
            "cost :  0.008947014\n",
            "Step :  52\n",
            "X :  [1. 2. 3.]\n",
            "W :  [0.8927821]\n",
            "b :  [0.2437315]\n",
            "hypothesis :  [1.1365136 2.0292957 2.9220777]\n",
            "cost :  0.00852203\n",
            "Step :  53\n",
            "X :  [1. 2. 3.]\n",
            "W :  [0.8953596]\n",
            "b :  [0.23787236]\n",
            "hypothesis :  [1.1332319 2.0285916 2.9239511]\n",
            "cost :  0.008117214\n",
            "Step :  54\n",
            "X :  [1. 2. 3.]\n",
            "W :  [0.897875]\n",
            "b :  [0.23215406]\n",
            "hypothesis :  [1.1300291 2.027904  2.925779 ]\n",
            "cost :  0.0077316463\n",
            "Step :  55\n",
            "X :  [1. 2. 3.]\n",
            "W :  [0.90033007]\n",
            "b :  [0.22657324]\n",
            "hypothesis :  [1.1269033 2.0272334 2.9275634]\n",
            "cost :  0.0073643867\n",
            "Step :  56\n",
            "X :  [1. 2. 3.]\n",
            "W :  [0.90272605]\n",
            "b :  [0.22112657]\n",
            "hypothesis :  [1.1238526 2.0265787 2.9293046]\n",
            "cost :  0.007014578\n",
            "Step :  57\n",
            "X :  [1. 2. 3.]\n",
            "W :  [0.90506446]\n",
            "b :  [0.21581085]\n",
            "hypothesis :  [1.1208754 2.0259397 2.931004 ]\n",
            "cost :  0.006681388\n",
            "Step :  58\n",
            "X :  [1. 2. 3.]\n",
            "W :  [0.90734667]\n",
            "b :  [0.2106229]\n",
            "hypothesis :  [1.1179695 2.0253162 2.932663 ]\n",
            "cost :  0.0063639977\n",
            "Step :  59\n",
            "X :  [1. 2. 3.]\n",
            "W :  [0.9095739]\n",
            "b :  [0.20555966]\n",
            "hypothesis :  [1.1151335 2.0247076 2.9342813]\n",
            "cost :  0.006061711\n",
            "Step :  60\n",
            "X :  [1. 2. 3.]\n",
            "W :  [0.91174775]\n",
            "b :  [0.20061816]\n",
            "hypothesis :  [1.112366  2.0241137 2.9358616]\n",
            "cost :  0.0057737716\n",
            "Step :  61\n",
            "X :  [1. 2. 3.]\n",
            "W :  [0.9138692]\n",
            "b :  [0.19579542]\n",
            "hypothesis :  [1.1096647 2.0235338 2.9374032]\n",
            "cost :  0.005499514\n",
            "Step :  62\n",
            "X :  [1. 2. 3.]\n",
            "W :  [0.91593975]\n",
            "b :  [0.19108863]\n",
            "hypothesis :  [1.1070284 2.022968  2.9389079]\n",
            "cost :  0.005238284\n",
            "Step :  63\n",
            "X :  [1. 2. 3.]\n",
            "W :  [0.9179605]\n",
            "b :  [0.186495]\n",
            "hypothesis :  [1.1044555 2.022416  2.9403765]\n",
            "cost :  0.004989462\n",
            "Step :  64\n",
            "X :  [1. 2. 3.]\n",
            "W :  [0.9199327]\n",
            "b :  [0.1820118]\n",
            "hypothesis :  [1.1019446 2.0218773 2.94181  ]\n",
            "cost :  0.0047524665\n",
            "Step :  65\n",
            "X :  [1. 2. 3.]\n",
            "W :  [0.9218575]\n",
            "b :  [0.17763634]\n",
            "hypothesis :  [1.0994939 2.0213513 2.943209 ]\n",
            "cost :  0.004526711\n",
            "Step :  66\n",
            "X :  [1. 2. 3.]\n",
            "W :  [0.9237359]\n",
            "b :  [0.17336607]\n",
            "hypothesis :  [1.0971019 2.0208378 2.9445739]\n",
            "cost :  0.004311684\n",
            "Step :  67\n",
            "X :  [1. 2. 3.]\n",
            "W :  [0.9255693]\n",
            "b :  [0.1691985]\n",
            "hypothesis :  [1.0947678 2.020337  2.9459064]\n",
            "cost :  0.0041068844\n",
            "Step :  68\n",
            "X :  [1. 2. 3.]\n",
            "W :  [0.92735857]\n",
            "b :  [0.16513108]\n",
            "hypothesis :  [1.0924896 2.019848  2.9472067]\n",
            "cost :  0.003911801\n",
            "Step :  69\n",
            "X :  [1. 2. 3.]\n",
            "W :  [0.9291048]\n",
            "b :  [0.16116145]\n",
            "hypothesis :  [1.0902662 2.019371  2.9484758]\n",
            "cost :  0.0037259895\n",
            "Step :  70\n",
            "X :  [1. 2. 3.]\n",
            "W :  [0.9308091]\n",
            "b :  [0.15728724]\n",
            "hypothesis :  [1.0880964 2.0189054 2.9497147]\n",
            "cost :  0.0035490005\n",
            "Step :  71\n",
            "X :  [1. 2. 3.]\n",
            "W :  [0.93247235]\n",
            "b :  [0.15350614]\n",
            "hypothesis :  [1.0859785 2.0184507 2.9509232]\n",
            "cost :  0.0033804218\n",
            "Step :  72\n",
            "X :  [1. 2. 3.]\n",
            "W :  [0.9340957]\n",
            "b :  [0.14981598]\n",
            "hypothesis :  [1.0839117 2.0180073 2.9521031]\n",
            "cost :  0.0032198457\n",
            "Step :  73\n",
            "X :  [1. 2. 3.]\n",
            "W :  [0.93568]\n",
            "b :  [0.1462145]\n",
            "hypothesis :  [1.0818945 2.0175745 2.9532545]\n",
            "cost :  0.0030669074\n",
            "Step :  74\n",
            "X :  [1. 2. 3.]\n",
            "W :  [0.9372262]\n",
            "b :  [0.1426996]\n",
            "hypothesis :  [1.0799258 2.0171518 2.9543781]\n",
            "cost :  0.0029212234\n",
            "Step :  75\n",
            "X :  [1. 2. 3.]\n",
            "W :  [0.93873525]\n",
            "b :  [0.13926922]\n",
            "hypothesis :  [1.0780045 2.0167396 2.9554749]\n",
            "cost :  0.002782467\n",
            "Step :  76\n",
            "X :  [1. 2. 3.]\n",
            "W :  [0.940208]\n",
            "b :  [0.13592128]\n",
            "hypothesis :  [1.0761293 2.0163374 2.9565454]\n",
            "cost :  0.0026502965\n",
            "Step :  77\n",
            "X :  [1. 2. 3.]\n",
            "W :  [0.9416453]\n",
            "b :  [0.13265382]\n",
            "hypothesis :  [1.0742991 2.0159445 2.9575896]\n",
            "cost :  0.0025244073\n",
            "Step :  78\n",
            "X :  [1. 2. 3.]\n",
            "W :  [0.9430482]\n",
            "b :  [0.12946494]\n",
            "hypothesis :  [1.0725131 2.0155613 2.9586093]\n",
            "cost :  0.0024044975\n",
            "Step :  79\n",
            "X :  [1. 2. 3.]\n",
            "W :  [0.94441724]\n",
            "b :  [0.12635268]\n",
            "hypothesis :  [1.0707699 2.0151873 2.9596045]\n",
            "cost :  0.002290276\n",
            "Step :  80\n",
            "X :  [1. 2. 3.]\n",
            "W :  [0.9457534]\n",
            "b :  [0.12331524]\n",
            "hypothesis :  [1.0690687 2.014822  2.9605756]\n",
            "cost :  0.002181486\n",
            "Step :  81\n",
            "X :  [1. 2. 3.]\n",
            "W :  [0.9470574]\n",
            "b :  [0.12035082]\n",
            "hypothesis :  [1.0674082 2.0144656 2.961523 ]\n",
            "cost :  0.0020778647\n",
            "Step :  82\n",
            "X :  [1. 2. 3.]\n",
            "W :  [0.94833016]\n",
            "b :  [0.1174577]\n",
            "hypothesis :  [1.0657879 2.014118  2.9624481]\n",
            "cost :  0.0019791697\n",
            "Step :  83\n",
            "X :  [1. 2. 3.]\n",
            "W :  [0.94957227]\n",
            "b :  [0.1146341]\n",
            "hypothesis :  [1.0642064 2.0137787 2.9633508]\n",
            "cost :  0.0018851585\n",
            "Step :  84\n",
            "X :  [1. 2. 3.]\n",
            "W :  [0.9507845]\n",
            "b :  [0.11187838]\n",
            "hypothesis :  [1.0626628 2.0134473 2.964232 ]\n",
            "cost :  0.0017956044\n",
            "Step :  85\n",
            "X :  [1. 2. 3.]\n",
            "W :  [0.9519676]\n",
            "b :  [0.10918891]\n",
            "hypothesis :  [1.0611565 2.013124  2.9650915]\n",
            "cost :  0.0017103213\n",
            "Step :  86\n",
            "X :  [1. 2. 3.]\n",
            "W :  [0.9531223]\n",
            "b :  [0.10656411]\n",
            "hypothesis :  [1.0596864 2.0128088 2.965931 ]\n",
            "cost :  0.0016290784\n",
            "Step :  87\n",
            "X :  [1. 2. 3.]\n",
            "W :  [0.9542492]\n",
            "b :  [0.10400236]\n",
            "hypothesis :  [1.0582516 2.0125008 2.9667501]\n",
            "cost :  0.0015516911\n",
            "Step :  88\n",
            "X :  [1. 2. 3.]\n",
            "W :  [0.95534897]\n",
            "b :  [0.1015022]\n",
            "hypothesis :  [1.0568511 2.0122    2.967549 ]\n",
            "cost :  0.001477986\n",
            "Step :  89\n",
            "X :  [1. 2. 3.]\n",
            "W :  [0.9564224]\n",
            "b :  [0.09906217]\n",
            "hypothesis :  [1.0554845 2.0119069 2.9683294]\n",
            "cost :  0.0014077773\n",
            "Step :  90\n",
            "X :  [1. 2. 3.]\n",
            "W :  [0.95746994]\n",
            "b :  [0.09668078]\n",
            "hypothesis :  [1.0541507 2.0116208 2.9690907]\n",
            "cost :  0.0013409085\n",
            "Step :  91\n",
            "X :  [1. 2. 3.]\n",
            "W :  [0.95849234]\n",
            "b :  [0.09435664]\n",
            "hypothesis :  [1.0528489 2.0113413 2.9698336]\n",
            "cost :  0.0012772155\n",
            "Step :  92\n",
            "X :  [1. 2. 3.]\n",
            "W :  [0.9594902]\n",
            "b :  [0.09208838]\n",
            "hypothesis :  [1.0515785 2.0110688 2.970559 ]\n",
            "cost :  0.0012165473\n",
            "Step :  93\n",
            "X :  [1. 2. 3.]\n",
            "W :  [0.960464]\n",
            "b :  [0.08987463]\n",
            "hypothesis :  [1.0503386 2.0108027 2.9712667]\n",
            "cost :  0.0011587589\n",
            "Step :  94\n",
            "X :  [1. 2. 3.]\n",
            "W :  [0.9614144]\n",
            "b :  [0.08771409]\n",
            "hypothesis :  [1.0491285 2.0105429 2.9719574]\n",
            "cost :  0.0011037166\n",
            "Step :  95\n",
            "X :  [1. 2. 3.]\n",
            "W :  [0.96234196]\n",
            "b :  [0.0856055]\n",
            "hypothesis :  [1.0479474 2.0102894 2.9726315]\n",
            "cost :  0.0010512877\n",
            "Step :  96\n",
            "X :  [1. 2. 3.]\n",
            "W :  [0.96324724]\n",
            "b :  [0.08354761]\n",
            "hypothesis :  [1.0467949 2.0100422 2.9732893]\n",
            "cost :  0.0010013572\n",
            "Step :  97\n",
            "X :  [1. 2. 3.]\n",
            "W :  [0.96413076]\n",
            "b :  [0.08153919]\n",
            "hypothesis :  [1.0456699 2.0098007 2.9739313]\n",
            "cost :  0.0009537902\n",
            "Step :  98\n",
            "X :  [1. 2. 3.]\n",
            "W :  [0.96499306]\n",
            "b :  [0.07957906]\n",
            "hypothesis :  [1.0445721 2.009565  2.9745584]\n",
            "cost :  0.0009084807\n",
            "Step :  99\n",
            "X :  [1. 2. 3.]\n",
            "W :  [0.96583456]\n",
            "b :  [0.07766602]\n",
            "hypothesis :  [1.0435005 2.009335  2.9751697]\n",
            "cost :  0.00086532865\n",
            "\n",
            "=== Test ===\n",
            "X: 5, Y: [4.9068384]\n",
            "X: 2.5, Y: [2.4922523]\n"
          ],
          "name": "stdout"
        }
      ]
    },
    {
      "metadata": {
        "id": "RcydvT3eTIKB",
        "colab_type": "text"
      },
      "cell_type": "markdown",
      "source": [
        "### 2-2. 기본 신경망"
      ]
    },
    {
      "metadata": {
        "id": "45CkEBxkL_an",
        "colab_type": "code",
        "colab": {
          "autoexec": {
            "startup": false,
            "wait_interval": 0
          },
          "output_extras": [
            {
              "item_id": 2
            }
          ],
          "base_uri": "https://localhost:8080/",
          "height": 1115
        },
        "outputId": "8b024795-1f3d-435c-d6fd-3aca6d1dbe7b",
        "executionInfo": {
          "status": "ok",
          "timestamp": 1520496996875,
          "user_tz": -540,
          "elapsed": 1114,
          "user": {
            "displayName": "sj jin",
            "photoUrl": "https://lh3.googleusercontent.com/a/default-user=s128",
            "userId": "107618035827318999649"
          }
        }
      },
      "cell_type": "code",
      "source": [
        "# tensorflow와 numpy를 불러옵니다.\n",
        "import tensorflow as tf\n",
        "import numpy as np\n",
        "\n",
        "# 레이블의 데이터는 원-핫 인코딩형태로 구성됩니다.\n",
        "# 원-핫 인코딩 : 표현하려는 값을 뜻하는 인덱스 원소만 1로 표기하고 나머지 원소는 모두 0으로 채우는 표기법입니다.\n",
        "# [털, 날개]\n",
        "x_data = np.array([[0,0], [1,0], [1,1], [0,0], [0,0], [0,1]])\n",
        "print(\"x_data : \",np.shape(x_data))\n",
        "# x_data 는 1X6의 행렬\n",
        "# 기타 = [1, 0, 0] 포유류 = [0, 1, 0] 조류 = [0, 0, 1]\n",
        "y_data = np.array([[1,0,0],[0,1,0],[0,0,1],[1,0,0],[1,0,0],[0,0,1]])\n",
        "print(\"y_data : \",np.shape(y_data))\n",
        "\n",
        "X = tf.placeholder(tf.float32)\n",
        "Y = tf.placeholder(tf.float32)\n",
        "\n",
        "# 편향을 각각 각 레이어의 아웃풋 갯수로 설정합니다.\n",
        "# 편향은 아웃풋의 갯수, 즉 최종 결과값의 분류 갯수인 3으로 설정합니다.\n",
        "W = tf.Variable(tf.random_uniform([2,3],-1.,1.))\n",
        "# 가중치 변수 W는 [입력층(특징 수), 출력층(레이블 수)], 편향변수 b는 레이블 수인 3개의 요소를 가진 변수로 설정\n",
        "b = tf.Variable(tf.zeros([3]))\n",
        "\n",
        "# 신경망에 가중치 W과 편향 b을 적용합니다\n",
        "# L = tf.add(tf.matmul(X, W), b) 는 X*W+b를 구현한 것입니다.\n",
        "L = tf.add(tf.matmul(X, W), b)\n",
        "# 가중치와 편향을 이용해 계산한 결과 값에\n",
        "# 텐서플로우에서 기본적으로 제공하는 활성화 함수인 ReLU 함수를 적용합니다\n",
        "L = tf.nn.relu(L)\n",
        "\n",
        "# 마지막으로 softmax 함수를 이용하여 출력값을 사용하기 쉽게 만듭니다\n",
        "# softmax 함수는 다음처럼 결과값을 전체합이 1인 확률로 만들어주는 함수입니다.\n",
        "# 예) [8.04, 2.76, -6.52] -> [0.53 0.24 0.23]\n",
        "model = tf.nn.softmax(L)\n",
        "\n",
        "# 신경망을 최적화하기 위한 비용 함수를 작성합니다.\n",
        "# 각 개별 결과에 대한 합을 구한 뒤 평균을 내는 방식을 사용합니다.\n",
        "# 전체 합이 아닌, 개별 결과를 구한 뒤 평균을 내는 방식을 사용하기 위해 axis 옵션을 사용합니다.\n",
        "# axis 옵션이 없으면 -1.09 처럼 총합인 스칼라값으로 출력됩니다.\n",
        "#        Y         model         Y * tf.log(model)   reduce_sum(axis=1)\n",
        "# 예) [[1 0 0]  [[0.1 0.7 0.2]  -> [[-1.0  0    0]  -> [-1.0, -0.09]\n",
        "#     [0 1 0]]  [0.2 0.8 0.0]]     [ 0   -0.09 0]]\n",
        "# 즉, 이것은 예측값과 실제값 사이의 확률 분포의 차이를 비용으로 계산한 것이며,\n",
        "# 이것을 Cross-Entropy 라고 합니다\n",
        "cost = tf.reduce_mean(-tf.reduce_sum(Y*tf.log(model),axis=1))\n",
        "\n",
        "# 기본적인 경사하강법으로 최적화합니다.\n",
        "optimizer = tf.train.GradientDescentOptimizer(learning_rate=0.01)\n",
        "train_op = optimizer.minimize(cost)\n",
        "\n",
        "# 텐서플로의 세션을 초기화합니다.\n",
        "init = tf.global_variables_initializer()\n",
        "sess = tf.Session()\n",
        "sess.run(init)\n",
        "\n",
        "# 앞서 구성한 특징과 레이블 데이터를 이용해 학습을 100번 진행합니다.\n",
        "# 신경망 모델 학습\n",
        "for step in range(100):\n",
        "  sess.run(train_op, feed_dict={X:x_data, Y:y_data})\n",
        "  \n",
        "  # 학습 도중 20번에 한 번씩 손실값을 출력해봅니다.\n",
        "  if (step + 1) % 50 == 0:\n",
        "    print(step + 1,sess.run(cost, feed_dict={X: x_data, Y: y_data}))\n",
        "    print(\"X : \",sess.run(X, feed_dict={X:x_data}))\n",
        "    print(\"W : \",sess.run(W))\n",
        "    print(\"b : \",sess.run(b))\n",
        "    print(\"L : \",sess.run(L, feed_dict={X: x_data, Y: y_data}))\n",
        "    print(\"model : \",sess.run(model, feed_dict={X: x_data, Y: y_data}))\n",
        "    print(\"Y : \",sess.run(Y, feed_dict={Y:y_data}))\n",
        "    \n",
        "    \n",
        "#########\n",
        "# 결과 확인\n",
        "# 0: 기타 1: 포유류, 2: 조류\n",
        "######\n",
        "# tf.argmax: 예측값과 실제값의 행렬에서 tf.argmax 를 이용해 가장 큰 값을 가져옵니다.\n",
        "# 예) [[0 1 0] [1 0 0]] -> [1 0]\n",
        "#    [[0.2 0.7 0.1] [0.9 0.1 0.]] -> [1 0]\n",
        "prediction = tf.argmax(model, axis=1)\n",
        "target = tf.argmax(Y, axis=1)\n",
        "print('예측값:',sess.run(prediction, feed_dict={X: x_data}))\n",
        "print('실제값:',sess.run(target, feed_dict={Y: y_data}))\n",
        "is_correct = tf.equal(prediction,target)\n",
        "accuracy = tf.reduce_mean(tf.cast(is_correct, tf.float32))\n",
        "print('정확도:%.2f' % sess.run(accuracy*100,feed_dict={X:x_data,Y:y_data}))"
      ],
      "execution_count": 12,
      "outputs": [
        {
          "output_type": "stream",
          "text": [
            "x_data :  (6, 2)\n",
            "y_data :  (6, 3)\n",
            "50 1.1919755\n",
            "X :  [[0. 0.]\n",
            " [1. 0.]\n",
            " [1. 1.]\n",
            " [0. 0.]\n",
            " [0. 0.]\n",
            " [0. 1.]]\n",
            "W :  [[ 0.05458459  0.91043437 -0.24742794]\n",
            " [-0.81989694  0.6731468  -0.05407214]]\n",
            "b :  [-0.01960769 -0.06307384  0.        ]\n",
            "L :  [[0.         0.         0.        ]\n",
            " [0.0349769  0.84736055 0.        ]\n",
            " [0.         1.5205073  0.        ]\n",
            " [0.         0.         0.        ]\n",
            " [0.         0.         0.        ]\n",
            " [0.         0.610073   0.        ]]\n",
            "model :  [[0.33333334 0.33333334 0.33333334]\n",
            " [0.23702858 0.53409004 0.22888139]\n",
            " [0.15210177 0.69579643 0.15210177]\n",
            " [0.33333334 0.33333334 0.33333334]\n",
            " [0.33333334 0.33333334 0.33333334]\n",
            " [0.2603783  0.47924337 0.2603783 ]]\n",
            "Y :  [[1. 0. 0.]\n",
            " [0. 1. 0.]\n",
            " [0. 0. 1.]\n",
            " [1. 0. 0.]\n",
            " [1. 0. 0.]\n",
            " [0. 0. 1.]]\n",
            "100 1.1658512\n",
            "X :  [[0. 0.]\n",
            " [1. 0.]\n",
            " [1. 1.]\n",
            " [0. 0.]\n",
            " [0. 0.]\n",
            " [0. 1.]]\n",
            "W :  [[ 0.03673292  0.8933381  -0.24742794]\n",
            " [-0.81989694  0.5782817  -0.05407214]]\n",
            "b :  [-0.03745937 -0.11855632  0.        ]\n",
            "L :  [[0.         0.         0.        ]\n",
            " [0.         0.77478176 0.        ]\n",
            " [0.         1.3530636  0.        ]\n",
            " [0.         0.         0.        ]\n",
            " [0.         0.         0.        ]\n",
            " [0.         0.45972538 0.        ]]\n",
            "model :  [[0.33333334 0.33333334 0.33333334]\n",
            " [0.23980133 0.5203973  0.23980133]\n",
            " [0.17037918 0.6592416  0.17037918]\n",
            " [0.33333334 0.33333334 0.33333334]\n",
            " [0.33333334 0.33333334 0.33333334]\n",
            " [0.27904594 0.4419081  0.27904594]]\n",
            "Y :  [[1. 0. 0.]\n",
            " [0. 1. 0.]\n",
            " [0. 0. 1.]\n",
            " [1. 0. 0.]\n",
            " [1. 0. 0.]\n",
            " [0. 0. 1.]]\n",
            "예측값: [0 1 1 0 0 1]\n",
            "실제값: [0 1 2 0 0 2]\n",
            "정확도:66.67\n"
          ],
          "name": "stdout"
        }
      ]
    },
    {
      "metadata": {
        "id": "fQgXznXsRBBc",
        "colab_type": "text"
      },
      "cell_type": "markdown",
      "source": [
        "### 2-3. 심층 신경망"
      ]
    },
    {
      "metadata": {
        "id": "t7NBM4WbRSf3",
        "colab_type": "code",
        "colab": {
          "autoexec": {
            "startup": false,
            "wait_interval": 0
          },
          "output_extras": [
            {
              "item_id": 2
            }
          ],
          "base_uri": "https://localhost:8080/",
          "height": 6623
        },
        "outputId": "8b0a883a-5051-455d-90de-999e09739816",
        "executionInfo": {
          "status": "ok",
          "timestamp": 1520501948614,
          "user_tz": -540,
          "elapsed": 1332,
          "user": {
            "displayName": "sj jin",
            "photoUrl": "https://lh3.googleusercontent.com/a/default-user=s128",
            "userId": "107618035827318999649"
          }
        }
      },
      "cell_type": "code",
      "source": [
        "import tensorflow as tf\n",
        "import numpy as np\n",
        "\n",
        "# [털, 날개]\n",
        "x_data = np.array([[0,0], [1,0], [1,1], [0,0], [0,0], [0,1]])\n",
        "# 기타 = [1, 0, 0] 포유류 = [0, 1, 0] 조류 = [0, 0, 1]\n",
        "y_data = np.array([[1,0,0],[0,1,0],[0,0,1],[1,0,0],[1,0,0],[0,0,1]])\n",
        "\n",
        "X = tf.placeholder(tf.float32)\n",
        "Y = tf.placeholder(tf.float32)\n",
        "\n",
        "# 가중치\n",
        "# W1 = [2,10] -> [특징,은닉층의 뉴런 수]\n",
        "# W2 = [10, 3] -> [은닉층의 뉴런 수, 분류 수]\n",
        "W1 = tf.Variable(tf.random_uniform([2, 10],-1.,1.))\n",
        "W2 = tf.Variable(tf.random_uniform([10, 3],-1.,1.))\n",
        "\n",
        "# 편향\n",
        "# b1 = [10] -> 은닉층의 뉴런 수\n",
        "# b2 = [3] -> 분류 수\n",
        "b1 = tf.Variable(tf.zeros([10]))\n",
        "b2 = tf.Variable(tf.zeros([3]))\n",
        "\n",
        "L1 = tf.add(tf.matmul(X,W1),b1)\n",
        "L1 = tf.nn.relu(L1)\n",
        "\n",
        "model = tf.add(tf.matmul(L1, W2), b2)\n",
        "\n",
        "# 텐서플로우에서 기본적으로 제공되는 크로스 엔트로피 함수를 이용해\n",
        "# 복잡한 수식을 사용하지 않고도 최적화를 위한 비용 함수를 다음처럼 간단하게 적용할 수 있습니다.\n",
        "cost = tf.reduce_mean(tf.nn.softmax_cross_entropy_with_logits_v2(labels=Y, logits=model))\n",
        "\n",
        "optimizer = tf.train.AdamOptimizer(learning_rate=0.01)\n",
        "train_op = optimizer.minimize(cost)\n",
        "\n",
        "# 텐서플로의 세션을 초기화합니다.\n",
        "init = tf.global_variables_initializer()\n",
        "sess = tf.Session()\n",
        "sess.run(init)\n",
        "\n",
        "# 앞서 구성한 특징과 레이블 데이터를 이용해 학습을 100번 진행합니다.\n",
        "for step in range(100):\n",
        "  sess.run(train_op, feed_dict={X:x_data, Y:y_data})\n",
        "  # 학습 도중 10번에 한 번씩 손실값을 출력해봅니다.\n",
        "  if (step + 1) % 10 == 0:\n",
        "    print(\"step cost : \",step + 1,sess.run(cost, feed_dict={X: x_data, Y: y_data}))\n",
        "    print(\"W1:\",sess.run(W1))\n",
        "    print(\"b1:\",sess.run(b1))\n",
        "    print(\"L1 : \",sess.run(L1, feed_dict={X: x_data, Y: y_data}))\n",
        "    print(\"W2:\",sess.run(W2))\n",
        "    print(\"b2:\",sess.run(b2))\n",
        "    print(\"model : \",sess.run(model, feed_dict={X: x_data, Y: y_data}))\n",
        "\n",
        "#########\n",
        "# 결과 확인\n",
        "# 0: 기타 1: 포유류, 2: 조류\n",
        "######\n",
        "prediction = tf.argmax(model, axis=1)\n",
        "target = tf.argmax(Y, axis=1)\n",
        "print('예측값:',sess.run(prediction, feed_dict={X: x_data}))\n",
        "print('실제값:',sess.run(target, feed_dict={Y: y_data}))\n",
        "is_correct = tf.equal(prediction,target)\n",
        "accuracy = tf.reduce_mean(tf.cast(is_correct, tf.float32))\n",
        "print('정확도:%.2f' % sess.run(accuracy*100,feed_dict={X:x_data,Y:y_data}))"
      ],
      "execution_count": 24,
      "outputs": [
        {
          "output_type": "stream",
          "text": [
            "step cost :  10 1.046596\n",
            "W1: [[ 0.44128552 -0.44811106  0.8791843   0.6113248   0.43066537  0.5246577\n",
            "  -0.841825   -0.2559269   0.45148063  0.16197136]\n",
            " [ 0.72483337 -0.154984    0.20120563 -0.01535047  0.26277563  0.43975636\n",
            "   0.94219226  0.87467366 -0.6602466  -0.90898824]]\n",
            "b1: [-0.09093576  0.         -0.09742142  0.00153605 -0.0020352  -0.09632207\n",
            " -0.01681095  0.08506852 -0.09935971 -0.00422897]\n",
            "L1 :  [[0.         0.         0.         0.00153605 0.         0.\n",
            "  0.         0.08506852 0.         0.        ]\n",
            " [0.35034975 0.         0.7817629  0.61286086 0.42863017 0.42833567\n",
            "  0.         0.         0.3521209  0.1577424 ]\n",
            " [1.0751832  0.         0.98296857 0.5975104  0.69140583 0.86809206\n",
            "  0.0835563  0.7038153  0.         0.        ]\n",
            " [0.         0.         0.         0.00153605 0.         0.\n",
            "  0.         0.08506852 0.         0.        ]\n",
            " [0.         0.         0.         0.00153605 0.         0.\n",
            "  0.         0.08506852 0.         0.        ]\n",
            " [0.6338976  0.         0.1037842  0.         0.26074043 0.3434343\n",
            "  0.9253813  0.9597422  0.         0.        ]]\n",
            "W2: [[-0.11425611  0.4787352  -0.7090023 ]\n",
            " [-0.7382896  -0.8083072  -0.7351637 ]\n",
            " [ 0.5935315  -0.71486104  0.17703556]\n",
            " [-0.49861172  0.18725947  0.37600482]\n",
            " [ 0.73518544  0.9159453   0.99590224]\n",
            " [ 0.22151259 -0.3138446  -0.07132074]\n",
            " [-0.2500444  -0.93867046 -0.23836116]\n",
            " [-0.58228636 -0.7518243   0.48466045]\n",
            " [-0.10730918 -0.3736293   0.66574574]\n",
            " [ 0.18450767  0.77178454  0.22611931]]\n",
            "b2: [ 0.10010476 -0.10012923  0.00313705]\n",
            "model :  [[ 0.04980464 -0.16379817  0.04494395]\n",
            " [ 0.6198197  -0.1281409   0.78999287]\n",
            " [ 0.53264564 -0.42293102  0.58737135]\n",
            " [ 0.04980464 -0.16379817  0.04494395]\n",
            " [ 0.04980464 -0.16379817  0.04494395]\n",
            " [-0.43318635 -1.3299981   0.05182776]]\n",
            "step cost :  20 0.769567\n",
            "W1: [[ 0.5477355  -0.44811106  0.79130936  0.70395225  0.5376948   0.44385803\n",
            "  -0.75392246 -0.16158065  0.35752207  0.26653734]\n",
            " [ 0.6379079  -0.154984    0.1614185   0.08370687  0.36722857  0.37756398\n",
            "   1.0401912   0.9691953  -0.6602466  -0.90898824]]\n",
            "b1: [-0.12050851  0.         -0.18291223 -0.00163834 -0.00114634 -0.1746296\n",
            "  0.07783379  0.12597395 -0.19331829  0.01705815]\n",
            "L1 :  [[0.         0.         0.         0.         0.         0.\n",
            "  0.07783379 0.12597395 0.         0.01705815]\n",
            " [0.427227   0.         0.6083971  0.7023139  0.5365485  0.26922843\n",
            "  0.         0.         0.16420378 0.2835955 ]\n",
            " [1.0651349  0.         0.7698156  0.78602076 0.90377706 0.6467924\n",
            "  0.3641025  0.9335886  0.         0.        ]\n",
            " [0.         0.         0.         0.         0.         0.\n",
            "  0.07783379 0.12597395 0.         0.01705815]\n",
            " [0.         0.         0.         0.         0.         0.\n",
            "  0.07783379 0.12597395 0.         0.01705815]\n",
            " [0.51739943 0.         0.         0.08206853 0.36608222 0.20293438\n",
            "  1.118025   1.0951693  0.         0.        ]]\n",
            "W2: [[-0.19638179  0.5567249  -0.6269227 ]\n",
            " [-0.7382896  -0.8083072  -0.7351637 ]\n",
            " [ 0.5151193  -0.62529045  0.24087179]\n",
            " [-0.5929686   0.28560606  0.44676268]\n",
            " [ 0.64079016  1.0141796   1.0876201 ]\n",
            " [ 0.14481567 -0.23497994  0.00460113]\n",
            " [-0.33647734 -1.039367   -0.1474528 ]\n",
            " [-0.6662295  -0.8582434   0.5787157 ]\n",
            " [-0.18581146 -0.2888994   0.57518804]\n",
            " [ 0.07897314  0.8800484   0.11850635]]\n",
            "b2: [ 0.20889041 -0.19955483 -0.09921846]\n",
            "model :  [[ 0.10012067 -0.37355703 -0.03577067]\n",
            " [ 0.39662683  0.5414859   0.8061122 ]\n",
            " [-0.1415208  -0.2785072   1.2421525 ]\n",
            " [ 0.10012067 -0.37355703 -0.03577067]\n",
            " [ 0.10012067 -0.37355703 -0.03577067]\n",
            " [-0.78323567 -1.6664388   0.48110512]]\n",
            "step cost :  30 0.5680456\n",
            "W1: [[ 0.66127956 -0.44811106  0.71813077  0.78397447  0.64547217  0.3843968\n",
            "  -0.6439126  -0.08266614  0.27663434  0.37346637]\n",
            " [ 0.5690191  -0.154984    0.17127572  0.17534187  0.4655936   0.3539456\n",
            "   1.15106     1.0519838  -0.6602466  -0.90898824]]\n",
            "b1: [-0.07162697  0.         -0.25316194 -0.00224788 -0.00154764 -0.22944479\n",
            "  0.18438636  0.08044125 -0.27420595 -0.00243953]\n",
            "L1 :  [[0.         0.         0.         0.         0.         0.\n",
            "  0.18438636 0.08044125 0.         0.        ]\n",
            " [0.5896526  0.         0.46496883 0.7817266  0.64392453 0.154952\n",
            "  0.         0.         0.00242838 0.37102684]\n",
            " [1.1586716  0.         0.63624454 0.9570685  1.109518   0.5088976\n",
            "  0.69153374 1.0497589  0.         0.        ]\n",
            " [0.         0.         0.         0.         0.         0.\n",
            "  0.18438636 0.08044125 0.         0.        ]\n",
            " [0.         0.         0.         0.         0.         0.\n",
            "  0.18438636 0.08044125 0.         0.        ]\n",
            " [0.49739212 0.         0.         0.17309399 0.46404597 0.12450083\n",
            "  1.3354464  1.1324251  0.         0.        ]]\n",
            "W2: [[-0.25909302  0.6618335  -0.56965005]\n",
            " [-0.7382896  -0.8083072  -0.7351637 ]\n",
            " [ 0.46150565 -0.55113846  0.26633397]\n",
            " [-0.67680275  0.37884077  0.46246976]\n",
            " [ 0.55753386  1.110683    1.1600943 ]\n",
            " [ 0.09515897 -0.18188785  0.05301772]\n",
            " [-0.39433217 -1.1505216  -0.06762698]\n",
            " [-0.72270924 -0.9628158   0.6585504 ]\n",
            " [-0.2349643  -0.23251928  0.51197314]\n",
            " [-0.02865156  0.99391127  0.0035303 ]]\n",
            "b2: [ 0.3239862  -0.2959552  -0.21644154]\n",
            "model :  [[ 0.1931411  -0.5855458  -0.17593642]\n",
            " [ 0.21927607  1.1893995   0.69080615]\n",
            " [-0.69467807 -0.18377838  1.694269  ]\n",
            " [ 0.1931411  -0.5855458  -0.17593642]\n",
            " [ 0.1931411  -0.5855458  -0.17593642]\n",
            " [-0.99649    -2.0352032   0.7806543 ]]\n",
            "step cost :  40 0.42227545\n",
            "W1: [[ 0.76687676 -0.44811106  0.6623411   0.85057926  0.7467051   0.34422618\n",
            "  -0.53343177 -0.01940797  0.22825891  0.47620732]\n",
            " [ 0.5160366  -0.154984    0.20384604  0.24859832  0.5519479   0.35463852\n",
            "   1.259578    1.1219512  -0.6602466  -0.90898824]]\n",
            "b1: [ 6.1690072e-03  0.0000000e+00 -3.0649495e-01 -1.3302882e-03\n",
            " -5.4449891e-05 -2.6417199e-01  2.8146791e-01 -1.1838646e-02\n",
            " -3.2258141e-01  3.9338274e-04]\n",
            "L1 :  [[6.1690072e-03 0.0000000e+00 0.0000000e+00 0.0000000e+00 0.0000000e+00\n",
            "  0.0000000e+00 2.8146791e-01 0.0000000e+00 0.0000000e+00 3.9338274e-04]\n",
            " [7.7304578e-01 0.0000000e+00 3.5584617e-01 8.4924895e-01 7.4665064e-01\n",
            "  8.0054194e-02 0.0000000e+00 0.0000000e+00 0.0000000e+00 4.7660071e-01]\n",
            " [1.2890824e+00 0.0000000e+00 5.5969220e-01 1.0978473e+00 1.2985985e+00\n",
            "  4.3469271e-01 1.0076141e+00 1.0907046e+00 0.0000000e+00 0.0000000e+00]\n",
            " [6.1690072e-03 0.0000000e+00 0.0000000e+00 0.0000000e+00 0.0000000e+00\n",
            "  0.0000000e+00 2.8146791e-01 0.0000000e+00 0.0000000e+00 3.9338274e-04]\n",
            " [6.1690072e-03 0.0000000e+00 0.0000000e+00 0.0000000e+00 0.0000000e+00\n",
            "  0.0000000e+00 2.8146791e-01 0.0000000e+00 0.0000000e+00 3.9338274e-04]\n",
            " [5.2220565e-01 0.0000000e+00 0.0000000e+00 2.4726804e-01 5.5189341e-01\n",
            "  9.0466529e-02 1.5410459e+00 1.1101125e+00 0.0000000e+00 0.0000000e+00]]\n",
            "W2: [[-0.3068793   0.7788533  -0.5334075 ]\n",
            " [-0.7382896  -0.8083072  -0.7351637 ]\n",
            " [ 0.4282836  -0.49892232  0.2736163 ]\n",
            " [-0.74707836  0.45898342  0.45415327]\n",
            " [ 0.48743948  1.1965139   1.2163547 ]\n",
            " [ 0.06691475 -0.15829413  0.08287332]\n",
            " [-0.40083575 -1.2705028  -0.00581435]\n",
            " [-0.7653872  -1.0536425   0.725689  ]\n",
            " [-0.2566164  -0.20727827  0.4833121 ]\n",
            " [-0.14157751  1.1058758  -0.10656934]]\n",
            "b2: [ 0.43894976 -0.39553446 -0.33344257]\n",
            "model :  [[ 0.32417852 -0.7479005  -0.33841163]\n",
            " [ 0.02149346  1.8265734   0.60129887]\n",
            " [-1.1137376  -0.111285    2.0319176 ]\n",
            " [ 0.32417852 -0.7479005  -0.33841163]\n",
            " [ 0.32417852 -0.7479005  -0.33841163]\n",
            " [-1.0983369  -2.356858    0.9757383 ]]\n",
            "step cost :  50 0.3261352\n",
            "W1: [[ 0.8534383  -0.44811106  0.6240174   0.9029966   0.8337729   0.31886485\n",
            "  -0.43068716  0.03503316  0.20939563  0.5667432 ]\n",
            " [ 0.4746926  -0.154984    0.24187928  0.30558774  0.6270547   0.3666691\n",
            "   1.3590336   1.1811123  -0.6602466  -0.90898824]]\n",
            "b1: [ 0.01379027  0.         -0.343046   -0.0019304  -0.00610155 -0.28433013\n",
            "  0.36981604 -0.02841019 -0.34144464 -0.00276759]\n",
            "L1 :  [[0.01379027 0.         0.         0.         0.         0.\n",
            "  0.36981604 0.         0.         0.        ]\n",
            " [0.86722857 0.         0.2809714  0.9010662  0.82767135 0.03453472\n",
            "  0.         0.00662297 0.         0.56397563]\n",
            " [1.3419212  0.         0.5228507  1.206654   1.454726   0.4012038\n",
            "  1.2981625  1.1877352  0.         0.        ]\n",
            " [0.01379027 0.         0.         0.         0.         0.\n",
            "  0.36981604 0.         0.         0.        ]\n",
            " [0.01379027 0.         0.         0.         0.         0.\n",
            "  0.36981604 0.         0.         0.        ]\n",
            " [0.4884829  0.         0.         0.30365732 0.62095314 0.08233896\n",
            "  1.7288496  1.1527021  0.         0.        ]]\n",
            "W2: [[-0.34239662  0.8835345  -0.5106834 ]\n",
            " [-0.7382896  -0.8083072  -0.7351637 ]\n",
            " [ 0.40913743 -0.46846545  0.27727577]\n",
            " [-0.8026177   0.51926935  0.463073  ]\n",
            " [ 0.43043724  1.2613165   1.265863  ]\n",
            " [ 0.05183822 -0.15781784  0.10306045]\n",
            " [-0.35616812 -1.3929045   0.03588193]\n",
            " [-0.8102428  -1.1241943   0.78497964]\n",
            " [-0.26505932 -0.19743595  0.47213614]\n",
            " [-0.24370566  1.2066255  -0.2056114 ]]\n",
            "b2: [ 0.54914564 -0.5004089  -0.44253775]\n",
            "model :  [[ 0.4127072  -1.0033431  -0.4363105 ]\n",
            " [-0.14080572  2.3136551   0.55026567]\n",
            " [-1.4426398  -0.30504295  2.4376683 ]\n",
            " [ 0.4127072  -1.0033431  -0.4363105 ]\n",
            " [ 0.4127072  -1.0033431  -0.4363105 ]\n",
            " [-1.1400099  -2.844897    1.2100272 ]]\n",
            "step cost :  60 0.25813708\n",
            "W1: [[ 0.9249004  -0.44811106  0.59757984  0.9425649   0.90373546  0.30182326\n",
            "  -0.381842    0.04787391  0.20214416  0.64356846]\n",
            " [ 0.4448757  -0.154984    0.27315143  0.3508953   0.69275975  0.3810067\n",
            "   1.4392008   1.2284862  -0.6602466  -0.90898824]]\n",
            "b1: [-0.01802473  0.         -0.36822227 -0.00089578 -0.00920317 -0.29663065\n",
            "  0.4381062  -0.01902648 -0.3486961   0.00131541]\n",
            "L1 :  [[0.0000000e+00 0.0000000e+00 0.0000000e+00 0.0000000e+00 0.0000000e+00\n",
            "  0.0000000e+00 4.3810621e-01 0.0000000e+00 0.0000000e+00 1.3154064e-03]\n",
            " [9.0687567e-01 0.0000000e+00 2.2935757e-01 9.4166911e-01 8.9453226e-01\n",
            "  5.1926076e-03 5.6264222e-02 2.8847439e-02 0.0000000e+00 6.4488387e-01]\n",
            " [1.3517514e+00 0.0000000e+00 5.0250900e-01 1.2925644e+00 1.5872920e+00\n",
            "  3.8619933e-01 1.4954649e+00 1.2573335e+00 0.0000000e+00 0.0000000e+00]\n",
            " [0.0000000e+00 0.0000000e+00 0.0000000e+00 0.0000000e+00 0.0000000e+00\n",
            "  0.0000000e+00 4.3810621e-01 0.0000000e+00 0.0000000e+00 1.3154064e-03]\n",
            " [0.0000000e+00 0.0000000e+00 0.0000000e+00 0.0000000e+00 0.0000000e+00\n",
            "  0.0000000e+00 4.3810621e-01 0.0000000e+00 0.0000000e+00 1.3154064e-03]\n",
            " [4.2685097e-01 0.0000000e+00 0.0000000e+00 3.4999949e-01 6.8355656e-01\n",
            "  8.4376037e-02 1.8773069e+00 1.2094597e+00 0.0000000e+00 0.0000000e+00]]\n",
            "W2: [[-0.36825368  0.9812498  -0.49874935]\n",
            " [-0.7382896  -0.8083072  -0.7351637 ]\n",
            " [ 0.39848495 -0.4514943   0.27927235]\n",
            " [-0.84527034  0.5658506   0.46795985]\n",
            " [ 0.3847306   1.3152686   1.3039317 ]\n",
            " [ 0.04383545 -0.16638058  0.1168832 ]\n",
            " [-0.27488914 -1.5057642   0.0494817 ]\n",
            " [-0.85281694 -1.1744142   0.8335357 ]\n",
            " [-0.26830497 -0.19365232  0.46783987]\n",
            " [-0.32901528  1.2935497  -0.292606  ]]\n",
            "b2: [ 0.65211666 -0.5967883  -0.5457549 ]\n",
            "model :  [[ 0.5312532  -1.2547715  -0.52446157]\n",
            " [-0.29427618  2.6136498   0.51180637]\n",
            " [-1.5937482  -0.47085243  2.762156  ]\n",
            " [ 0.5312532  -1.2547715  -0.52446157]\n",
            " [ 0.5312532  -1.2547715  -0.52446157]\n",
            " [-1.0817322  -3.3420596   1.4073325 ]]\n",
            "step cost :  70 0.20631278\n",
            "W1: [[ 0.9847492  -0.44811106  0.57854426  0.9729115   0.95998114  0.29198205\n",
            "  -0.430944    0.03369518  0.19939274  0.70864874]\n",
            " [ 0.42344534 -0.154984    0.29675364  0.39024213  0.75414443  0.39490983\n",
            "   1.501129    1.2676235  -0.6602466  -0.90898824]]\n",
            "b1: [-0.00064985  0.         -0.386333   -0.0021028   0.00161633 -0.30255502\n",
            "  0.4788682  -0.01125351 -0.35144746 -0.00196835]\n",
            "L1 :  [[0.0000000e+00 0.0000000e+00 0.0000000e+00 0.0000000e+00 1.6163329e-03\n",
            "  0.0000000e+00 4.7886819e-01 0.0000000e+00 0.0000000e+00 0.0000000e+00]\n",
            " [9.8409933e-01 0.0000000e+00 1.9221127e-01 9.7080868e-01 9.6159750e-01\n",
            "  0.0000000e+00 4.7924191e-02 2.2441667e-02 0.0000000e+00 7.0668042e-01]\n",
            " [1.4075447e+00 0.0000000e+00 4.8896492e-01 1.3610507e+00 1.7157420e+00\n",
            "  3.8433689e-01 1.5490532e+00 1.2900653e+00 0.0000000e+00 0.0000000e+00]\n",
            " [0.0000000e+00 0.0000000e+00 0.0000000e+00 0.0000000e+00 1.6163329e-03\n",
            "  0.0000000e+00 4.7886819e-01 0.0000000e+00 0.0000000e+00 0.0000000e+00]\n",
            " [0.0000000e+00 0.0000000e+00 0.0000000e+00 0.0000000e+00 1.6163329e-03\n",
            "  0.0000000e+00 4.7886819e-01 0.0000000e+00 0.0000000e+00 0.0000000e+00]\n",
            " [4.2279547e-01 0.0000000e+00 0.0000000e+00 3.8813934e-01 7.5576079e-01\n",
            "  9.2354804e-02 1.9799972e+00 1.2563701e+00 0.0000000e+00 0.0000000e+00]]\n",
            "W2: [[-0.38875142  1.0713208  -0.49240506]\n",
            " [-0.7382896  -0.8083072  -0.7351637 ]\n",
            " [ 0.39240932 -0.44204894  0.28069428]\n",
            " [-0.87937784  0.60310537  0.4714641 ]\n",
            " [ 0.34617093  1.362224    1.3348092 ]\n",
            " [ 0.03917657 -0.17738724  0.12705888]\n",
            " [-0.17988025 -1.604042    0.04028332]\n",
            " [-0.8934655  -1.2095957   0.8740641 ]\n",
            " [-0.26953644 -0.19221672  0.46620977]\n",
            " [-0.3986392   1.3680363  -0.368955  ]]\n",
            "b2: [ 0.7453628 -0.679308  -0.6414919]\n",
            "model :  [[ 0.6597834  -1.445231   -0.620044  ]\n",
            " [-0.39299434  3.0481691   0.42994857]\n",
            " [-1.6291015  -0.34282088  2.9733844 ]\n",
            " [ 0.6597834  -1.445231   -0.620044  ]\n",
            " [ 0.6597834  -1.445231   -0.620044  ]\n",
            " [-0.9737658  -3.674835    1.531755  ]]\n",
            "step cost :  80 0.16717894\n",
            "W1: [[ 1.028487   -0.44811106  0.56588715  0.99581194  1.004492    0.29096392\n",
            "  -0.49372706  0.0182181   0.19835995  0.7605084 ]\n",
            " [ 0.40597698 -0.154984    0.31674877  0.42830676  0.8164682   0.4090828\n",
            "   1.5519956   1.3038825  -0.6602466  -0.90898824]]\n",
            "b1: [-6.9554043e-03  0.0000000e+00 -3.9836952e-01 -5.2278368e-03\n",
            " -4.6045557e-03 -3.0082297e-01  5.2494007e-01 -1.1519307e-03\n",
            " -3.5248029e-01 -1.1902768e-05]\n",
            "L1 :  [[0.         0.         0.         0.         0.         0.\n",
            "  0.5249401  0.         0.         0.        ]\n",
            " [1.0215316  0.         0.16751763 0.9905841  0.99988747 0.\n",
            "  0.03121302 0.01706617 0.         0.7604965 ]\n",
            " [1.4275086  0.         0.48426643 1.418891   1.8163557  0.39922374\n",
            "  1.5832086  1.3209487  0.         0.        ]\n",
            " [0.         0.         0.         0.         0.         0.\n",
            "  0.5249401  0.         0.         0.        ]\n",
            " [0.         0.         0.         0.         0.         0.\n",
            "  0.5249401  0.         0.         0.        ]\n",
            " [0.39902157 0.         0.         0.42307892 0.8118636  0.10825983\n",
            "  2.0769358  1.3027306  0.         0.        ]]\n",
            "W2: [[-0.4056603   1.1369671  -0.48584038]\n",
            " [-0.7382896  -0.8083072  -0.7351637 ]\n",
            " [ 0.3887716  -0.43813068  0.28365943]\n",
            " [-0.90807813  0.6280311   0.5098367 ]\n",
            " [ 0.3113794   1.3926651   1.3720087 ]\n",
            " [ 0.03580096 -0.18931144  0.13582961]\n",
            " [-0.08747068 -1.6914091   0.02350491]\n",
            " [-0.9345041  -1.2381704   0.9118388 ]\n",
            " [-0.2699987  -0.19167782  0.4655978 ]\n",
            " [-0.45316443  1.4278221  -0.43092594]]\n",
            "b2: [ 0.82789505 -0.7529109  -0.7260748 ]\n",
            "model :  [[ 0.7819782  -1.6407993  -0.7137362 ]\n",
            " [-0.4728657   3.3616974   0.39060974]\n",
            " [-1.6444315  -0.31036052  3.2291408 ]\n",
            " [ 0.7819782  -1.6407993  -0.7137362 ]\n",
            " [ 0.7819782  -1.6407993  -0.7137362 ]\n",
            " [-0.86056554 -4.049321    1.6610531 ]]\n",
            "step cost :  90 0.13677566\n",
            "W1: [[ 1.0603702  -0.44811106  0.5573263   1.0131958   1.0396906   0.29320666\n",
            "  -0.5503824   0.00590723  0.1979756   0.8020064 ]\n",
            " [ 0.3913867  -0.154984    0.33385125  0.46751842  0.881699    0.4232686\n",
            "   1.5927207   1.3386966  -0.6602466  -0.90898824]]\n",
            "b1: [-3.5419962e-03  0.0000000e+00 -4.0650818e-01 -2.6689782e-03\n",
            " -5.6741140e-03 -2.9609957e-01  5.8138901e-01 -2.5547170e-03\n",
            " -3.5286468e-01  3.4843077e-05]\n",
            "L1 :  [[0.0000000e+00 0.0000000e+00 0.0000000e+00 0.0000000e+00 0.0000000e+00\n",
            "  0.0000000e+00 5.8138901e-01 0.0000000e+00 0.0000000e+00 3.4843077e-05]\n",
            " [1.0568283e+00 0.0000000e+00 1.5081814e-01 1.0105268e+00 1.0340165e+00\n",
            "  0.0000000e+00 3.1006634e-02 3.3525103e-03 0.0000000e+00 8.0204129e-01]\n",
            " [1.4482150e+00 0.0000000e+00 4.8466936e-01 1.4780452e+00 1.9157155e+00\n",
            "  4.2037567e-01 1.6237273e+00 1.3420490e+00 0.0000000e+00 0.0000000e+00]\n",
            " [0.0000000e+00 0.0000000e+00 0.0000000e+00 0.0000000e+00 0.0000000e+00\n",
            "  0.0000000e+00 5.8138901e-01 0.0000000e+00 0.0000000e+00 3.4843077e-05]\n",
            " [0.0000000e+00 0.0000000e+00 0.0000000e+00 0.0000000e+00 0.0000000e+00\n",
            "  0.0000000e+00 5.8138901e-01 0.0000000e+00 0.0000000e+00 3.4843077e-05]\n",
            " [3.8784468e-01 0.0000000e+00 0.0000000e+00 4.6484944e-01 8.7602490e-01\n",
            "  1.2716901e-01 2.1741097e+00 1.3361418e+00 0.0000000e+00 0.0000000e+00]]\n",
            "W2: [[-0.4200906   1.1839536  -0.47862795]\n",
            " [-0.7382896  -0.8083072  -0.7351637 ]\n",
            " [ 0.38644823 -0.4371925   0.28745636]\n",
            " [-0.93358046  0.6443597   0.5739237 ]\n",
            " [ 0.27841353  1.4111049   1.4151918 ]\n",
            " [ 0.03276787 -0.20070207  0.14395006]\n",
            " [-0.00272439 -1.7683377   0.00440064]\n",
            " [-0.9764934  -1.2622411   0.9481882 ]\n",
            " [-0.2701708  -0.19147727  0.46537006]\n",
            " [-0.49568695  1.4759438  -0.48149106]]\n",
            "b2: [ 0.89982724 -0.816554   -0.8000608 ]\n",
            "model :  [[ 0.898226   -1.8445947  -0.7975191 ]\n",
            " [-0.5422964   3.6036997   0.3979017 ]\n",
            " [-1.6689184  -0.30781806  3.5456676 ]\n",
            " [ 0.898226   -1.8445947  -0.7975191 ]\n",
            " [ 0.898226   -1.8445947  -0.7975191 ]\n",
            " [-0.75966954 -4.378287    1.8156247 ]]\n",
            "step cost :  100 0.11280369\n",
            "W1: [[ 1.086328   -0.44811106  0.5508285   1.0266662   1.0677403   0.29495913\n",
            "  -0.6024666  -0.00202137  0.19783355  0.8368313 ]\n",
            " [ 0.3796946  -0.154984    0.34776643  0.50831246  0.9491911   0.4368597\n",
            "   1.6226891   1.3717483  -0.6602466  -0.90898824]]\n",
            "b1: [-1.7670796e-03  0.0000000e+00 -4.1268447e-01 -1.9812861e-03\n",
            "  1.9724626e-05 -2.9156616e-01  6.4269489e-01 -3.2146806e-03\n",
            " -3.5300675e-01 -1.1899581e-03]\n",
            "L1 :  [[0.0000000e+00 0.0000000e+00 0.0000000e+00 0.0000000e+00 1.9724626e-05\n",
            "  0.0000000e+00 6.4269489e-01 0.0000000e+00 0.0000000e+00 0.0000000e+00]\n",
            " [1.0845610e+00 0.0000000e+00 1.3814405e-01 1.0246849e+00 1.0677600e+00\n",
            "  3.3929646e-03 4.0228307e-02 0.0000000e+00 0.0000000e+00 8.3564132e-01]\n",
            " [1.4642556e+00 0.0000000e+00 4.8591051e-01 1.5329974e+00 2.0169513e+00\n",
            "  4.4025263e-01 1.6629174e+00 1.3665122e+00 0.0000000e+00 0.0000000e+00]\n",
            " [0.0000000e+00 0.0000000e+00 0.0000000e+00 0.0000000e+00 1.9724626e-05\n",
            "  0.0000000e+00 6.4269489e-01 0.0000000e+00 0.0000000e+00 0.0000000e+00]\n",
            " [0.0000000e+00 0.0000000e+00 0.0000000e+00 0.0000000e+00 1.9724626e-05\n",
            "  0.0000000e+00 6.4269489e-01 0.0000000e+00 0.0000000e+00 0.0000000e+00]\n",
            " [3.7792754e-01 0.0000000e+00 0.0000000e+00 5.0633121e-01 9.4921082e-01\n",
            "  1.4529353e-01 2.2653840e+00 1.3685336e+00 0.0000000e+00 0.0000000e+00]]\n",
            "W2: [[-0.4326348   1.2233311  -0.47212407]\n",
            " [-0.7382896  -0.8083072  -0.7351637 ]\n",
            " [ 0.38487786 -0.4373335   0.2909657 ]\n",
            " [-0.95710534  0.6568873   0.6445864 ]\n",
            " [ 0.24657744  1.4253125   1.4594796 ]\n",
            " [ 0.02973829 -0.21059227  0.15153414]\n",
            " [ 0.07469666 -1.8345138  -0.01738664]\n",
            " [-1.0186217  -1.2818373   0.98266417]\n",
            " [-0.2702344  -0.19140315  0.4652859 ]\n",
            " [-0.53013647  1.5165162  -0.5248227 ]]\n",
            "b2: [ 0.9620118  -0.8685671  -0.86531174]\n",
            "model :  [[ 1.0100238  -2.0475717  -0.8764573 ]\n",
            " [-0.61138237  3.7855392   0.44295907]\n",
            " [-1.7090173  -0.30301517  3.8972335 ]\n",
            " [ 1.0100238  -2.0475717  -0.8764573 ]\n",
            " [ 1.0100238  -2.0475717  -0.8764573 ]\n",
            " [-0.6725317  -4.661425    1.995426  ]]\n",
            "예측값: [0 1 2 0 0 2]\n",
            "실제값: [0 1 2 0 0 2]\n",
            "정확도:100.00\n"
          ],
          "name": "stdout"
        }
      ]
    },
    {
      "metadata": {
        "id": "EMywRDy8pjD0",
        "colab_type": "text"
      },
      "cell_type": "markdown",
      "source": [
        "## 3. 신경망 첫걸음 정리\n",
        "\n",
        "3-1. 간단한 예측자\n",
        "\n",
        "* 컴퓨터는 입력->연산->출력 시스템입니다. 인공신경망도 마찬가지입니다.\n",
        "* 어떤 것의 동작 원리를 정확히 파악할 수 없을 때 취할 수 있는 한 방식은 우리가 조정할 수 있는 매개변수 값을 포함하는 모델을 만들어보는 것입니다.\n",
        "* 모델을 정교화나가는 좋은 방법은 오차에 기초해 매개변수 값을 조정해나가는 것입니다.\n",
        "\n",
        "3-2. 분류자 학습시키기\n",
        "\n",
        "* 오차를 제거하기 위해 기울기를 조정해야함\n",
        "* 이러한 과정의 문제점은 이전의 학습데이터는 무시하고 최종 학습 데이터만 맞춰 업데이트 되게 됩니다. 이를 해결하기 위해 학습률을 도입해 업데이트의 정도를 조정해줍니다. \n",
        "\n",
        "3-3 . 다중 계층에서의 오차 역전파\n",
        "\n",
        "* 인공 신경망에서 학습이란 연결 노드의 가중치를 업데이트하는 과정을 의미합니다. 가중치의 업데이트는 오차에 의해 주도되는데, 오차는 학습 데이터로부터 주어진 정답과 출력 값 간의 차이를 의미.\n",
        "* 중간 계층에 존재하는 노드들의 오차는 명백하지 않습니다. 한 가지 접근 방법은 출력 계층의 노드들의 오차를 이와 연결된 가중치의 크기에 비례해 나눠서 역전파하고 이를 재조합하는 방법.\n",
        "\n",
        "3-4. 가중치의 진짜 업데이트\n",
        "\n",
        "* 신경망의 오차는 가중치의 함수\n",
        "* 신경망을 개선한다는 것은 가중치의 변화를 통해 오차를 줄인다는 뜻\n",
        "* 최적의 가중치에 접근하는 방법은 작은 발걸음으로 오차함수를 줄여가면서 반복적으로 가중치를 개선해나가는 방법. 각 발걸음은 현재 위치에서 볼 때 가장 급격히 낮아지는 경사의 방향으로 취해집니다. 이런 방법을 경사 하강법이라고 함.\n"
      ]
    },
    {
      "metadata": {
        "id": "8UG2ylbqjkIS",
        "colab_type": "text"
      },
      "cell_type": "markdown",
      "source": [
        "## 4. 내 멋대로 정리하는 딥러닝\n",
        "\n",
        "\n",
        "![대체 텍스트](https://i.imgur.com/mGhooZr.png)"
      ]
    }
  ]
}